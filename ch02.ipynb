{
 "cells": [
  {
   "cell_type": "markdown",
   "id": "69628d25-eb00-48ee-b6da-5528b2768090",
   "metadata": {},
   "source": [
    "http://taewan.kim/post/numpy_cheat_sheet/\n",
    "<h1>2장 numpy로 배열만들기</h1>\n",
    "\n",
    "44쪽~45쪽 중요!\n",
    "\n",
    "정수형 int32\n",
    "부동소수점형 float64\n",
    "변수.dtype\n",
    "\n"
   ]
  },
  {
   "cell_type": "code",
   "execution_count": null,
   "id": "3e0a9878-09a5-4a55-9c9e-6f9f117caadf",
   "metadata": {},
   "outputs": [],
   "source": [
    "\"\"\" dtype = int, float , 'int32' , 'float32'\"\"\"\n",
    "\"\"\" np.array()\"\"\" \n",
    "\"\"\" np.zeros() np.ones()\"\"\" \n",
    "\n"
   ]
  },
  {
   "cell_type": "code",
   "execution_count": 2,
   "id": "0e62cb16-c9ce-4dca-b3be-0467558a32f4",
   "metadata": {},
   "outputs": [
    {
     "data": {
      "text/plain": [
       "'1.26.4'"
      ]
     },
     "execution_count": 2,
     "metadata": {},
     "output_type": "execute_result"
    }
   ],
   "source": [
    "import numpy\n",
    "numpy.__version__"
   ]
  },
  {
   "cell_type": "code",
   "execution_count": 3,
   "id": "eadb1978-977a-4d88-b85a-21b1d303c9fe",
   "metadata": {},
   "outputs": [],
   "source": [
    "import numpy as np"
   ]
  },
  {
   "cell_type": "code",
   "execution_count": 20,
   "id": "a80d6dd8-e41b-4cda-8818-69ae30bd59e0",
   "metadata": {},
   "outputs": [
    {
     "data": {
      "text/plain": [
       "(numpy.ndarray, dtype('int32'))"
      ]
     },
     "execution_count": 20,
     "metadata": {},
     "output_type": "execute_result"
    }
   ],
   "source": [
    "\"\"\"numpy는 배열의 모든 요소가 같은 타입이어햐 한다. 일치하지 않을 경우, 상위 타입을 취하게 된다.\"\"\"\n",
    "a= np.array([1,4,2,5,3])\n",
    "type(a), a.dtype"
   ]
  },
  {
   "cell_type": "code",
   "execution_count": 7,
   "id": "ac523a47-8682-4cd6-b5b4-ab3666afeda0",
   "metadata": {},
   "outputs": [
    {
     "data": {
      "text/plain": [
       "array([3.14, 4.  , 2.  , 5.  , 3.  ])"
      ]
     },
     "execution_count": 7,
     "metadata": {},
     "output_type": "execute_result"
    }
   ],
   "source": [
    "\"\"\"numpy는 배열의 모든 요소 타입이 일치하지 않을 경우, 상위 타입을 취하게 된다. 정수의 상위타입은 부동소수점형이다.\"\"\"\n",
    "np.array([3.14,4,2,5,3])"
   ]
  },
  {
   "cell_type": "code",
   "execution_count": 10,
   "id": "42957c7a-96b5-4486-9a1e-4fb0d622fc65",
   "metadata": {},
   "outputs": [
    {
     "data": {
      "text/plain": [
       "array([3., 4., 2., 5., 3.], dtype=float32)"
      ]
     },
     "execution_count": 10,
     "metadata": {},
     "output_type": "execute_result"
    }
   ],
   "source": [
    "\"\"\"명시적으로 결과 배열의 데이터 타입을 설정하려면 dtype 키워드를 사용하면 된다.\"\"\"\n",
    "np.array([3,4,2,5,3], dtype='float32')"
   ]
  },
  {
   "cell_type": "code",
   "execution_count": 11,
   "id": "d146d38d-9728-4ee4-a8f8-4865b4e9317c",
   "metadata": {},
   "outputs": [
    {
     "data": {
      "text/plain": [
       "array([[2, 3, 4],\n",
       "       [4, 5, 6],\n",
       "       [6, 7, 8]])"
      ]
     },
     "execution_count": 11,
     "metadata": {},
     "output_type": "execute_result"
    }
   ],
   "source": [
    "\"\"\"리스트의 리스트를 사용해 다차원배열을 초기화 하는 방법\"\"\"\n",
    "np.array([range(i, i+3) for i in [2,4,6]])"
   ]
  },
  {
   "cell_type": "code",
   "execution_count": 13,
   "id": "fec6faae-55a4-4ff5-a063-fcf7262864af",
   "metadata": {},
   "outputs": [
    {
     "data": {
      "text/plain": [
       "array([0, 0, 0, 0, 0, 0, 0, 0, 0, 0])"
      ]
     },
     "execution_count": 13,
     "metadata": {},
     "output_type": "execute_result"
    }
   ],
   "source": [
    "\"\"\"규모가 큰 배열의 경우에는 numpy에 내장된 루틴을 사용해 처음부터 배열을 생성하는 것이 더 효과적이다.\"\"\"\n",
    "\n",
    "np.zeros(10, dtype =int)"
   ]
  },
  {
   "cell_type": "code",
   "execution_count": 23,
   "id": "0dccd6f3-dae5-4155-b261-7d5f6ad6c3c3",
   "metadata": {},
   "outputs": [
    {
     "data": {
      "text/plain": [
       "tuple"
      ]
     },
     "execution_count": 23,
     "metadata": {},
     "output_type": "execute_result"
    }
   ],
   "source": [
    "\"\"\"n행m열일 때 (n,m)\"\"\"\n",
    "t = (2, 3)\n",
    "type(t) "
   ]
  },
  {
   "cell_type": "code",
   "execution_count": 24,
   "id": "297e1de6-3e5a-4b02-8db8-9941cb3e950e",
   "metadata": {},
   "outputs": [
    {
     "data": {
      "text/plain": [
       "(dtype('float64'), (3, 5))"
      ]
     },
     "execution_count": 24,
     "metadata": {},
     "output_type": "execute_result"
    }
   ],
   "source": [
    "\"\"\"1로 채운 3행5열 부동 소수점 배열\"\"\"\n",
    "c=np.ones((3,5),dtype=float)\n",
    "c.dtype , c.shape"
   ]
  },
  {
   "cell_type": "code",
   "execution_count": 15,
   "id": "30db9e86-e2cb-4543-9848-62fa812cd7ae",
   "metadata": {},
   "outputs": [
    {
     "data": {
      "text/plain": [
       "array([[3.14, 3.14, 3.14, 3.14, 3.14],\n",
       "       [3.14, 3.14, 3.14, 3.14, 3.14],\n",
       "       [3.14, 3.14, 3.14, 3.14, 3.14]])"
      ]
     },
     "execution_count": 15,
     "metadata": {},
     "output_type": "execute_result"
    }
   ],
   "source": [
    "\"\"\"3.14로 채운 3행5열배열\"\"\"\n",
    "np.full((3,5),3.14)"
   ]
  },
  {
   "cell_type": "code",
   "execution_count": 27,
   "id": "cc9cb2da-5691-4355-9537-dfd5409bdc48",
   "metadata": {},
   "outputs": [
    {
     "data": {
      "text/plain": [
       "array([0, 1, 2, 3, 4, 5, 6, 7, 8, 9])"
      ]
     },
     "execution_count": 27,
     "metadata": {},
     "output_type": "execute_result"
    }
   ],
   "source": [
    "\"\"\"range(10)과 arange(10) 결과 0~9로 동일/ arange의 결과는 numpy.ndarray 타입이다.\"\"\"\n",
    "np.arange(10)"
   ]
  },
  {
   "cell_type": "code",
   "execution_count": 16,
   "id": "00fb9664-44c4-4fea-bb72-83bb33b658f9",
   "metadata": {},
   "outputs": [
    {
     "data": {
      "text/plain": [
       "array([ 0,  2,  4,  6,  8, 10, 12, 14, 16, 18])"
      ]
     },
     "execution_count": 16,
     "metadata": {},
     "output_type": "execute_result"
    }
   ],
   "source": [
    "\"\"\"0부터 20까지 2씩 더해서 채움\"\"\"\n",
    "np.arange(0,20,2)"
   ]
  },
  {
   "cell_type": "code",
   "execution_count": 17,
   "id": "3ac8b4e7-ed8a-4c37-9988-9ff7341ec02d",
   "metadata": {},
   "outputs": [
    {
     "data": {
      "text/plain": [
       "array([0.  , 0.25, 0.5 , 0.75, 1.  ])"
      ]
     },
     "execution_count": 17,
     "metadata": {},
     "output_type": "execute_result"
    }
   ],
   "source": [
    "\"\"\"0과 1사이에 일정한 간격을 가진 다섯 개의 값으로 채운 배열\"\"\"\n",
    "\"\"\"차트에 x축을 그릴 때 주로 쓴다.\"\"\"\n",
    "np.linspace(0,1,5)"
   ]
  },
  {
   "cell_type": "code",
   "execution_count": 18,
   "id": "d225b73f-6d80-43d0-9adf-91bc3b5f6603",
   "metadata": {},
   "outputs": [
    {
     "data": {
      "text/plain": [
       "array([[0.20672697, 0.74397529, 0.11219296],\n",
       "       [0.87828814, 0.57291859, 0.7865225 ],\n",
       "       [0.57208047, 0.3053895 , 0.72497433]])"
      ]
     },
     "execution_count": 18,
     "metadata": {},
     "output_type": "execute_result"
    }
   ],
   "source": [
    "\"\"\"3행3열 배열 균등하게 분포\"\"\"\n",
    "np.random.random((3,3))"
   ]
  },
  {
   "cell_type": "code",
   "execution_count": 9,
   "id": "5c5144f1-f6ca-4137-a68b-7e0d42fbd962",
   "metadata": {},
   "outputs": [
    {
     "data": {
      "text/plain": [
       "((32, 3, 224, 224), 4816896)"
      ]
     },
     "execution_count": 9,
     "metadata": {},
     "output_type": "execute_result"
    }
   ],
   "source": [
    " \"\"\" 32장 , 컬러(rgb), 224x224 크기\"\"\"\n",
    "color_img= np.random.random((32,3,224,224))       \n",
    "color_img.shape , color_img.size"
   ]
  },
  {
   "cell_type": "code",
   "execution_count": 9,
   "id": "d88e72ce-3526-4656-8444-94ce123d7274",
   "metadata": {},
   "outputs": [
    {
     "data": {
      "text/plain": [
       "array([[ 0.84828011,  0.45955556,  0.70835783],\n",
       "       [ 1.13939089,  1.03760318,  0.96050602],\n",
       "       [ 1.30562973, -0.168228  , -0.19815124]])"
      ]
     },
     "execution_count": 9,
     "metadata": {},
     "output_type": "execute_result"
    }
   ],
   "source": [
    "\"\"\"정규분포(평균 0, 표준편차 1)\"\"\"\n",
    "np.random.normal(0,1,(3,3))\n"
   ]
  },
  {
   "cell_type": "code",
   "execution_count": 11,
   "id": "02049d4a-18fe-462d-9a38-09b7b830f816",
   "metadata": {},
   "outputs": [
    {
     "data": {
      "text/plain": [
       "array([[ 3.83663772,  1.94801558, -0.97666575],\n",
       "       [ 1.11486727,  3.71140833,  0.56827604],\n",
       "       [ 4.78067432,  5.44479596, -0.47067035]])"
      ]
     },
     "execution_count": 11,
     "metadata": {},
     "output_type": "execute_result"
    }
   ],
   "source": [
    "\n",
    "\"\"\"노이즈 만들 때 \"\"\"\n",
    "np.random.normal(2,3,(3,3))"
   ]
  },
  {
   "cell_type": "code",
   "execution_count": 29,
   "id": "1aa36335-ab50-4fef-aa34-8fb1cfda0e56",
   "metadata": {},
   "outputs": [
    {
     "data": {
      "text/plain": [
       "array([[9, 2, 9],\n",
       "       [8, 2, 2],\n",
       "       [4, 5, 0]])"
      ]
     },
     "execution_count": 29,
     "metadata": {},
     "output_type": "execute_result"
    }
   ],
   "source": [
    "\"\"\"3행3열 배열만들기\"\"\"\n",
    "np.random.randint(0,10,(3,3))"
   ]
  },
  {
   "cell_type": "code",
   "execution_count": 30,
   "id": "ce1cda71-ede6-4563-8d2f-22f9b3178751",
   "metadata": {},
   "outputs": [
    {
     "data": {
      "text/plain": [
       "array([[1., 0., 0.],\n",
       "       [0., 1., 0.],\n",
       "       [0., 0., 1.]])"
      ]
     },
     "execution_count": 30,
     "metadata": {},
     "output_type": "execute_result"
    }
   ],
   "source": [
    "\"\"\"3행3열 단위행렬 만들기\"\"\"\n",
    "np.eye(3)"
   ]
  },
  {
   "cell_type": "code",
   "execution_count": 31,
   "id": "440db72b-5c51-437a-83f4-345d4335711e",
   "metadata": {},
   "outputs": [
    {
     "data": {
      "text/plain": [
       "array([1., 1., 1.])"
      ]
     },
     "execution_count": 31,
     "metadata": {},
     "output_type": "execute_result"
    }
   ],
   "source": [
    "\"\"\"초기화 되지 않은 배열?\"\"\"\n",
    "np.empty(3)"
   ]
  },
  {
   "cell_type": "code",
   "execution_count": 7,
   "id": "01cb32ae-9198-4395-85a2-186190fde68d",
   "metadata": {},
   "outputs": [],
   "source": [
    "import numpy as np\n",
    "np.random.seed(0)\n",
    "\n",
    "x1=np.random.randint(10, size=6)   #1차원\n",
    "x2=np.random.randint(10, size=(3,4))  #2차원\n",
    "x3=np.random.randint(10,  size=(3,4,5))  #3차원"
   ]
  },
  {
   "cell_type": "code",
   "execution_count": 39,
   "id": "31b2b15b-8141-4b83-875c-da60fb7220be",
   "metadata": {},
   "outputs": [],
   "source": [
    "def desc(N: np.ndarray):\n",
    "    print(f'shape : {N.shape},dtype :{N.dtype} , ndim : {N. ndim}, size : {N.size}')"
   ]
  },
  {
   "cell_type": "code",
   "execution_count": 14,
   "id": "7df4393c-b6e6-4d66-95cb-b2ca4248a77e",
   "metadata": {},
   "outputs": [
    {
     "name": "stdout",
     "output_type": "stream",
     "text": [
      "x3 ndim: 3\n",
      "x3 shape: (3, 4, 5)\n",
      "x3 size: 60\n",
      "dtype: int32\n"
     ]
    }
   ],
   "source": [
    "\"\"\"ndim(차원의 개수) , shape(각 차원의 크기), size(배열의 전체 크기) , dtype(각 요소의 타입)\"\"\"\n",
    "print(\"x3 ndim:\" , x3.ndim)\n",
    "print(\"x3 shape:\" , x3.shape)\n",
    "print(\"x3 size:\" , x3.size)\n",
    "print(\"dtype:\" , x3.dtype)"
   ]
  },
  {
   "cell_type": "code",
   "execution_count": 40,
   "id": "eeb6bd4b-b3f7-4085-9305-7ffc27109447",
   "metadata": {},
   "outputs": [
    {
     "name": "stdout",
     "output_type": "stream",
     "text": [
      "shape : (3, 4),dtype :int32 , ndim : 2, size : 12\n"
     ]
    },
    {
     "data": {
      "text/plain": [
       "array([[ 1,  2,  3,  4],\n",
       "       [ 5,  6,  7,  8],\n",
       "       [ 9, 10, 11, 12]])"
      ]
     },
     "execution_count": 40,
     "metadata": {},
     "output_type": "execute_result"
    }
   ],
   "source": [
    "arr =  np.arange(1,13).reshape((3,4))\n",
    "desc(arr)\n",
    "arr"
   ]
  },
  {
   "cell_type": "code",
   "execution_count": 15,
   "id": "91da51be-aac3-4850-9678-bae74b6c5290",
   "metadata": {},
   "outputs": [
    {
     "data": {
      "text/plain": [
       "array([5, 0, 3, 3, 7, 9])"
      ]
     },
     "execution_count": 15,
     "metadata": {},
     "output_type": "execute_result"
    }
   ],
   "source": [
    "\"단일 요소 접근\"\n",
    "x1"
   ]
  },
  {
   "cell_type": "code",
   "execution_count": 16,
   "id": "4a368e95-b069-48d7-8500-f84fba7eb246",
   "metadata": {},
   "outputs": [
    {
     "data": {
      "text/plain": [
       "5"
      ]
     },
     "execution_count": 16,
     "metadata": {},
     "output_type": "execute_result"
    }
   ],
   "source": [
    "\"\"\"배열의 앞에서부터 인덱싱하려면 0부터 시작\"\"\"\n",
    "x1[0]"
   ]
  },
  {
   "cell_type": "code",
   "execution_count": 17,
   "id": "ec55ebe6-1d8f-4769-b391-391515dc52a7",
   "metadata": {},
   "outputs": [
    {
     "data": {
      "text/plain": [
       "9"
      ]
     },
     "execution_count": 17,
     "metadata": {},
     "output_type": "execute_result"
    }
   ],
   "source": [
    "\"\"\"배열의 끝에서부터 인덱싱하려면 음수 인덱스를 사용하면 된다. -1부터 시작\"\"\"\n",
    "x1[-1]"
   ]
  },
  {
   "cell_type": "code",
   "execution_count": 18,
   "id": "fb096600-ad1a-4cfe-8e9d-e44ab4be139c",
   "metadata": {},
   "outputs": [
    {
     "data": {
      "text/plain": [
       "array([[3, 5, 2, 4],\n",
       "       [7, 6, 8, 8],\n",
       "       [1, 6, 7, 7]])"
      ]
     },
     "execution_count": 18,
     "metadata": {},
     "output_type": "execute_result"
    }
   ],
   "source": [
    "x2"
   ]
  },
  {
   "cell_type": "code",
   "execution_count": 19,
   "id": "9591a47e-952d-4357-8585-c9bab6267f9d",
   "metadata": {},
   "outputs": [
    {
     "data": {
      "text/plain": [
       "3"
      ]
     },
     "execution_count": 19,
     "metadata": {},
     "output_type": "execute_result"
    }
   ],
   "source": [
    "x2[0,0]"
   ]
  },
  {
   "cell_type": "code",
   "execution_count": 20,
   "id": "daa5e584-ff51-4cc0-a68b-0750b249752e",
   "metadata": {},
   "outputs": [
    {
     "data": {
      "text/plain": [
       "array([[12,  5,  2,  4],\n",
       "       [ 7,  6,  8,  8],\n",
       "       [ 1,  6,  7,  7]])"
      ]
     },
     "execution_count": 20,
     "metadata": {},
     "output_type": "execute_result"
    }
   ],
   "source": [
    "\"\"\"인덱스를 사용해서 값 수정(1개)\"\"\"\n",
    "x2[0,0]=12\n",
    "x2"
   ]
  },
  {
   "cell_type": "code",
   "execution_count": 42,
   "id": "ea0e5bae-61d9-4c62-a690-693728ca1f89",
   "metadata": {},
   "outputs": [
    {
     "data": {
      "text/plain": [
       "array([[99, 50, 50,  4],\n",
       "       [ 7, 50, 50,  8],\n",
       "       [ 1,  6,  7,  7]])"
      ]
     },
     "execution_count": 42,
     "metadata": {},
     "output_type": "execute_result"
    }
   ],
   "source": [
    "\"\"\"인덱스를 사용해서 값 수정(여러개)\"\"\"\n",
    "x2[0:2,1:3] =50\n",
    "x2"
   ]
  },
  {
   "cell_type": "code",
   "execution_count": 21,
   "id": "998a88b4-1bcd-4dbb-9907-a0bccdb1af84",
   "metadata": {},
   "outputs": [
    {
     "data": {
      "text/plain": [
       "array([3, 0, 3, 3, 7, 9])"
      ]
     },
     "execution_count": 21,
     "metadata": {},
     "output_type": "execute_result"
    }
   ],
   "source": [
    "\"\"\"파이썬 리스트와 달리 numpy 배열은 고정 타입을 가진다.\"\"\"\n",
    "\"\"\"x1은 dtype이 int 32이기에 정수형이 아닌 부동소수점형으로 값이 수정될 때 소수점이하는 다 짤린다.\"\"\"\n",
    "x1[0]=3.14\n",
    "x1"
   ]
  },
  {
   "cell_type": "code",
   "execution_count": 23,
   "id": "f37a9d5c-4f1e-4215-b880-eb7bf1a67f37",
   "metadata": {},
   "outputs": [
    {
     "data": {
      "text/plain": [
       "(array([0, 1, 2, 3, 4, 5, 6, 7, 8, 9]), dtype('int32'), 10)"
      ]
     },
     "execution_count": 23,
     "metadata": {},
     "output_type": "execute_result"
    }
   ],
   "source": [
    "\"\"\"배열 슬라이싱: 하위 배열에 접근하기\"\"\"\n",
    "\"\"\"x[start : stop : step] 기본값 start=0 , stop=차원의 크기, step=1\"\"\"\n",
    "\n",
    "x=np.arange(10)\n",
    "x, x.dtype , x.size\n"
   ]
  },
  {
   "cell_type": "code",
   "execution_count": 24,
   "id": "b2d91db5-ec48-4d07-b265-fee0ad03d1b2",
   "metadata": {},
   "outputs": [
    {
     "data": {
      "text/plain": [
       "array([0, 1, 2, 3, 4])"
      ]
     },
     "execution_count": 24,
     "metadata": {},
     "output_type": "execute_result"
    }
   ],
   "source": [
    "x[:5]\n",
    "\"\"\"0부터 인덱스 4까지\"\"\""
   ]
  },
  {
   "cell_type": "code",
   "execution_count": 25,
   "id": "26aad2d1-a538-42c4-8631-5f4bba846924",
   "metadata": {},
   "outputs": [
    {
     "data": {
      "text/plain": [
       "array([1, 3, 5, 7, 9])"
      ]
     },
     "execution_count": 25,
     "metadata": {},
     "output_type": "execute_result"
    }
   ],
   "source": [
    "\"\"\"홀수 인덱스\"\"\"\n",
    "x[1::2]"
   ]
  },
  {
   "cell_type": "code",
   "execution_count": 26,
   "id": "6b3e7beb-84d3-4cb2-92b9-495091f4bb9b",
   "metadata": {},
   "outputs": [
    {
     "data": {
      "text/plain": [
       "array([0, 2, 4, 6, 8])"
      ]
     },
     "execution_count": 26,
     "metadata": {},
     "output_type": "execute_result"
    }
   ],
   "source": [
    "\"\"\"짝수 인덱스\"\"\"\n",
    "x[::2]"
   ]
  },
  {
   "cell_type": "code",
   "execution_count": 27,
   "id": "fcd2ce5b-e83c-4050-9e2a-0b59f4bf6659",
   "metadata": {},
   "outputs": [
    {
     "data": {
      "text/plain": [
       "array([9, 8, 7, 6, 5, 4, 3, 2, 1, 0])"
      ]
     },
     "execution_count": 27,
     "metadata": {},
     "output_type": "execute_result"
    }
   ],
   "source": [
    "\"\"\"step이 음수일 때, start와 stop이 바뀐다.\"\"\"\n",
    "\"\"\"거꾸로 나열\"\"\"\n",
    "x[::-1]"
   ]
  },
  {
   "cell_type": "code",
   "execution_count": 28,
   "id": "b997b28d-522e-4fa1-9ac3-5f83da1e70f7",
   "metadata": {},
   "outputs": [
    {
     "data": {
      "text/plain": [
       "array([[12,  5,  2],\n",
       "       [ 7,  6,  8]])"
      ]
     },
     "execution_count": 28,
     "metadata": {},
     "output_type": "execute_result"
    }
   ],
   "source": [
    "\"\"\"다차원 하위 배열\"\"\"\n",
    "x2[:2 ,:3]"
   ]
  },
  {
   "cell_type": "code",
   "execution_count": 29,
   "id": "84e76baf-0953-4662-9a1b-1186464c889b",
   "metadata": {},
   "outputs": [
    {
     "data": {
      "text/plain": [
       "array([[12,  5],\n",
       "       [ 7,  6],\n",
       "       [ 1,  6]])"
      ]
     },
     "execution_count": 29,
     "metadata": {},
     "output_type": "execute_result"
    }
   ],
   "source": [
    "x2[:3 ,:2]"
   ]
  },
  {
   "cell_type": "code",
   "execution_count": 43,
   "id": "de6d929d-f48c-4b03-bcd9-72f1d356d68c",
   "metadata": {},
   "outputs": [
    {
     "data": {
      "text/plain": [
       "array([[ 7,  7,  6,  1],\n",
       "       [ 8, 50, 50,  7],\n",
       "       [ 4, 50, 50, 99]])"
      ]
     },
     "execution_count": 43,
     "metadata": {},
     "output_type": "execute_result"
    }
   ],
   "source": [
    "\"\"\"상하좌우 값이 바뀜\"\"\"\n",
    "\n",
    "x2[::-1, ::-1]"
   ]
  },
  {
   "cell_type": "code",
   "execution_count": 32,
   "id": "9006e469-e36e-44b0-a5b0-c5f05575880e",
   "metadata": {},
   "outputs": [
    {
     "name": "stdout",
     "output_type": "stream",
     "text": [
      "[12  7  1]\n"
     ]
    }
   ],
   "source": [
    "\"\"\"x2의 첫번째 열\"\"\"\n",
    "print(x2[:,0])"
   ]
  },
  {
   "cell_type": "code",
   "execution_count": 33,
   "id": "6c3e7e39-2ab7-4392-a0ca-0d0245d4f75c",
   "metadata": {},
   "outputs": [
    {
     "data": {
      "text/plain": [
       "array([12,  7,  1])"
      ]
     },
     "execution_count": 33,
     "metadata": {},
     "output_type": "execute_result"
    }
   ],
   "source": [
    "\"\"\"x2의 첫번째 열\"\"\"\n",
    "x2[:,0]"
   ]
  },
  {
   "cell_type": "code",
   "execution_count": 34,
   "id": "210eaeef-939b-4ff5-9c7a-3865b8e0d7c2",
   "metadata": {},
   "outputs": [
    {
     "name": "stdout",
     "output_type": "stream",
     "text": [
      "[[12  5  2  4]\n",
      " [ 7  6  8  8]\n",
      " [ 1  6  7  7]]\n"
     ]
    }
   ],
   "source": [
    "\"\"\"사본이 아닌 뷰로서의 하위 배열\"\"\"\n",
    "\"\"\"파이썬 리스트에서는 슬라이스는 사본이어서 원본이 유지된다. ////numpy에서는 원본이 유지되지 않고 바뀐다.\"\"\"\n",
    "print(x2)"
   ]
  },
  {
   "cell_type": "code",
   "execution_count": 35,
   "id": "aaed448b-827c-4009-9f54-74c9704edecf",
   "metadata": {},
   "outputs": [
    {
     "name": "stdout",
     "output_type": "stream",
     "text": [
      "[[12  5]\n",
      " [ 7  6]]\n"
     ]
    }
   ],
   "source": [
    "x2_sub=x2[:2,:2]\n",
    "print(x2_sub)"
   ]
  },
  {
   "cell_type": "code",
   "execution_count": 36,
   "id": "99d98119-5ca0-4033-850b-8e80514ae373",
   "metadata": {},
   "outputs": [
    {
     "name": "stdout",
     "output_type": "stream",
     "text": [
      "[[99  5]\n",
      " [ 7  6]]\n"
     ]
    }
   ],
   "source": [
    "x2_sub[0,0]  = 99\n",
    "print(x2_sub)"
   ]
  },
  {
   "cell_type": "code",
   "execution_count": 37,
   "id": "93fde5f8-2dd6-47e6-aca2-abbc66075613",
   "metadata": {},
   "outputs": [
    {
     "name": "stdout",
     "output_type": "stream",
     "text": [
      "[[99  5  2  4]\n",
      " [ 7  6  8  8]\n",
      " [ 1  6  7  7]]\n"
     ]
    }
   ],
   "source": [
    "print(x2)"
   ]
  },
  {
   "cell_type": "code",
   "execution_count": 47,
   "id": "bac822a0-b00b-4039-8430-239766096b26",
   "metadata": {},
   "outputs": [
    {
     "data": {
      "text/plain": [
       "[5, 2, 3]"
      ]
     },
     "execution_count": 47,
     "metadata": {},
     "output_type": "execute_result"
    }
   ],
   "source": [
    "\"\"\"파이썬에서 원본이 잃어버리는 경우\"\"\"\n",
    "ls=[1,2,3]\n",
    "ls2=ls\n",
    "ls2[0]=5\n",
    "ls\n"
   ]
  },
  {
   "cell_type": "code",
   "execution_count": 49,
   "id": "9e1a0a05-5f32-4c6e-9cbc-caec4da43ed4",
   "metadata": {},
   "outputs": [
    {
     "data": {
      "text/plain": [
       "[1, 2, 3]"
      ]
     },
     "execution_count": 49,
     "metadata": {},
     "output_type": "execute_result"
    }
   ],
   "source": [
    "\"\"\"파이썬에서 원본 유지\"\"\"\n",
    "ls=[1,2,3]\n",
    "ls2=ls[:]\n",
    "ls2[0]=5\n",
    "ls"
   ]
  },
  {
   "cell_type": "code",
   "execution_count": 41,
   "id": "5f4a55f8-9f19-44bb-a065-63f0fa2509ce",
   "metadata": {},
   "outputs": [
    {
     "name": "stdout",
     "output_type": "stream",
     "text": [
      "[[99  5]\n",
      " [ 7  6]]\n"
     ]
    }
   ],
   "source": [
    "\"\"\"파이썬에서 원본유지를 위해 사본 만든 것처럼 numpy에서의 배열 사본 (copy)\"\"\"\n",
    "x2_sub_copy= x2[:2,:2].copy()\n",
    "print(x2_sub_copy)"
   ]
  },
  {
   "cell_type": "code",
   "execution_count": 44,
   "id": "db46c6b7-beca-4ce9-a8ae-adb7f71b7cec",
   "metadata": {},
   "outputs": [
    {
     "name": "stdout",
     "output_type": "stream",
     "text": [
      "[[42  5]\n",
      " [ 7  6]]\n"
     ]
    }
   ],
   "source": [
    "x2_sub_copy[0,0]=42\n",
    "print(x2_sub_copy)"
   ]
  },
  {
   "cell_type": "code",
   "execution_count": 45,
   "id": "43250b5b-a56e-4910-ace4-567454798a9a",
   "metadata": {},
   "outputs": [
    {
     "name": "stdout",
     "output_type": "stream",
     "text": [
      "[[99 50]\n",
      " [ 7 50]]\n"
     ]
    }
   ],
   "source": [
    "print(x2_sub)"
   ]
  },
  {
   "cell_type": "code",
   "execution_count": 18,
   "id": "bdff61bf-86ee-40ef-9a05-35021da39b7c",
   "metadata": {},
   "outputs": [
    {
     "data": {
      "text/plain": [
       "array([[2, 1, 9],\n",
       "       [8, 2, 2],\n",
       "       [2, 0, 5]])"
      ]
     },
     "execution_count": 18,
     "metadata": {},
     "output_type": "execute_result"
    }
   ],
   "source": [
    "\n",
    "arr=np.random.randint(0,10,(3,3))\n",
    "\n",
    "arr"
   ]
  },
  {
   "cell_type": "code",
   "execution_count": 21,
   "id": "7a804b22-d50b-46bd-9b51-47dd6bf2f552",
   "metadata": {},
   "outputs": [
    {
     "data": {
      "text/plain": [
       "(1, 3, 3)"
      ]
     },
     "execution_count": 21,
     "metadata": {},
     "output_type": "execute_result"
    }
   ],
   "source": [
    "\"\"\"흑백를 명시할 때 코드\"\"\"     \"\"\"축 axis 디폴트 0 \"\"\" \"\"\"축axis 1은 가로방향\"\"\"\n",
    "arr[np.newaxis, : , :].shape"
   ]
  },
  {
   "cell_type": "code",
   "execution_count": 22,
   "id": "d3239e9b-bcb0-493d-ab5d-ae59151c2576",
   "metadata": {},
   "outputs": [
    {
     "data": {
      "text/plain": [
       "(3, 3, 1)"
      ]
     },
     "execution_count": 22,
     "metadata": {},
     "output_type": "execute_result"
    }
   ],
   "source": [
    "arr[ : , :,np.newaxis].shape"
   ]
  },
  {
   "cell_type": "code",
   "execution_count": 35,
   "id": "b6aff923-3551-4cc9-8174-6c3f5f962bb6",
   "metadata": {},
   "outputs": [
    {
     "data": {
      "text/plain": [
       "array([1, 2, 3, 4, 5, 6])"
      ]
     },
     "execution_count": 35,
     "metadata": {},
     "output_type": "execute_result"
    }
   ],
   "source": [
    "\"\"\"배열 연결\"\"\"\n",
    "x=np.array([1,2,3])\n",
    "y=np.array([4,5,6])\n",
    "np.concatenate([x,y])"
   ]
  },
  {
   "cell_type": "code",
   "execution_count": 36,
   "id": "56fa51a4-63c1-4f73-beca-40d44610404e",
   "metadata": {},
   "outputs": [
    {
     "ename": "TypeError",
     "evalue": "vstack() missing 1 required positional argument: 'tup'",
     "output_type": "error",
     "traceback": [
      "\u001b[1;31m---------------------------------------------------------------------------\u001b[0m",
      "\u001b[1;31mTypeError\u001b[0m                                 Traceback (most recent call last)",
      "Cell \u001b[1;32mIn[36], line 2\u001b[0m\n\u001b[0;32m      1\u001b[0m \u001b[38;5;124;03m\"\"\"스택\"\"\"\u001b[39;00m\n\u001b[1;32m----> 2\u001b[0m \u001b[43mnp\u001b[49m\u001b[38;5;241;43m.\u001b[39;49m\u001b[43mvstack\u001b[49m\u001b[43m(\u001b[49m\u001b[43m)\u001b[49m\n",
      "\u001b[1;31mTypeError\u001b[0m: vstack() missing 1 required positional argument: 'tup'"
     ]
    }
   ],
   "source": [
    "\"\"\"스택\"\"\"\n",
    "np.vstack()"
   ]
  },
  {
   "cell_type": "code",
   "execution_count": 40,
   "id": "4333e23d-dc71-403a-8723-9139d4c0ef18",
   "metadata": {},
   "outputs": [
    {
     "name": "stdout",
     "output_type": "stream",
     "text": [
      "[1 2 3] [99 99] [3 2 1]\n"
     ]
    }
   ],
   "source": [
    "\"\"\"배열분할\"\"\"\n",
    "\"\"\":3, 3:5 , 5:로 분할\"\"\"\n",
    "x=[1,2,3,99,99,3,2,1]\n",
    "x1,x2,x3 = np.split(x,[3,5])\n",
    "print(x1,x2,x3)"
   ]
  },
  {
   "cell_type": "markdown",
   "id": "e0a48915-5456-4bb4-a9fd-3244ca99f042",
   "metadata": {},
   "source": [
    "<h2>universal function</h2>"
   ]
  },
  {
   "cell_type": "code",
   "execution_count": 27,
   "id": "08417217-3dca-40e7-8793-5bf98b215269",
   "metadata": {},
   "outputs": [],
   "source": [
    "import numpy as np\n"
   ]
  },
  {
   "cell_type": "code",
   "execution_count": 28,
   "id": "85980793-7794-46d5-9c05-7fa2da709ca2",
   "metadata": {},
   "outputs": [],
   "source": [
    "def calc(values):\n",
    "    result=[]\n",
    "    for i in values:\n",
    "        result.append(1/i)\n",
    "    return result"
   ]
  },
  {
   "cell_type": "code",
   "execution_count": 37,
   "id": "dc074c2c-bd15-442d-a1ec-012515afe1c3",
   "metadata": {
    "scrolled": true
   },
   "outputs": [
    {
     "data": {
      "text/plain": [
       "999999"
      ]
     },
     "execution_count": 37,
     "metadata": {},
     "output_type": "execute_result"
    }
   ],
   "source": [
    "data =range(1,1000000)\n",
    "len(calc(data))"
   ]
  },
  {
   "cell_type": "code",
   "execution_count": 38,
   "id": "d19fcd3b-5054-4f1b-a235-4c07bcc2d0f1",
   "metadata": {},
   "outputs": [
    {
     "name": "stdout",
     "output_type": "stream",
     "text": [
      "76.9 ms ± 643 µs per loop (mean ± std. dev. of 7 runs, 10 loops each)\n"
     ]
    }
   ],
   "source": [
    "\"\"\"파이썬 기본구현에서 몇 가지 연산은 매우 느리게 수행된다.\"\"\"\n",
    "%timeit calc(data)"
   ]
  },
  {
   "cell_type": "code",
   "execution_count": 33,
   "id": "46eb205c-1ddd-4ba7-829a-9b2e8dcdca41",
   "metadata": {},
   "outputs": [
    {
     "data": {
      "text/plain": [
       "(999999,)"
      ]
     },
     "execution_count": 33,
     "metadata": {},
     "output_type": "execute_result"
    }
   ],
   "source": [
    "data=np.arange(1,1000000)\n",
    "(1/data).shape\n"
   ]
  },
  {
   "cell_type": "code",
   "execution_count": 32,
   "id": "782071ee-1865-49b8-bcd4-0a4f71b385e8",
   "metadata": {},
   "outputs": [
    {
     "name": "stdout",
     "output_type": "stream",
     "text": [
      "2.4 ms ± 54.4 µs per loop (mean ± std. dev. of 7 runs, 100 loops each)\n"
     ]
    }
   ],
   "source": [
    "\"\"\"numpy 배열의 계산은 아주빠르거나 아주 느릴 수 있다. 이 연산을 빠르게 만드는 핵심은 벡터화연산을 사용하는 것인데, 그것은 일반적으로 numpy의 유니버설함수를 통해 구현된다.\"\"\"\n",
    "%timeit 1/data"
   ]
  },
  {
   "cell_type": "code",
   "execution_count": 39,
   "id": "c399ecad-ca6e-467d-951b-27823d393e9a",
   "metadata": {},
   "outputs": [
    {
     "data": {
      "text/plain": [
       "'numpy의 배열은 한가지 타입이기에 1/data가 가능하다.'"
      ]
     },
     "execution_count": 39,
     "metadata": {},
     "output_type": "execute_result"
    }
   ],
   "source": [
    "\"\"\"numpy의 배열은 한가지 타입이기에 1/data가 가능하다.\"\"\"\n",
    "\"\"\"파이썬의 리스트는 타입이 여러가지이기에 한가지로 정해지지 않아 각각을 확인해야하므로 1/list명이 불가능하다.\"\"\""
   ]
  },
  {
   "cell_type": "code",
   "execution_count": null,
   "id": "c777b121-1d61-4d5a-8945-74eb99070cc0",
   "metadata": {},
   "outputs": [],
   "source": [
    "class Int:\n",
    "    def __init__(self, x):\n",
    "        self._x=x\n",
    "    def __add__(self, other):\n",
    "        return self._X + other._x\n",
    "    def __sub__(self, other):\n",
    "        return self._X - other._x"
   ]
  },
  {
   "cell_type": "code",
   "execution_count": 88,
   "id": "d2643e79-74b6-4463-9ce8-7c57821d7717",
   "metadata": {},
   "outputs": [
    {
     "data": {
      "text/plain": [
       "array([2, 3, 4])"
      ]
     },
     "execution_count": 88,
     "metadata": {},
     "output_type": "execute_result"
    }
   ],
   "source": [
    "\"\"\"산술연산 배열+정수\"\"\"\n",
    "np.array([1,2,3]) +1"
   ]
  },
  {
   "cell_type": "code",
   "execution_count": 89,
   "id": "5bbf0c27-5b0f-4826-b802-79a615dc1c72",
   "metadata": {},
   "outputs": [
    {
     "data": {
      "text/plain": [
       "array([4, 5, 6])"
      ]
     },
     "execution_count": 89,
     "metadata": {},
     "output_type": "execute_result"
    }
   ],
   "source": [
    "\"\"\"산술연산 배열+배열\"\"\"\n",
    "np.array([1,2,3]) +np.array([3])\n"
   ]
  },
  {
   "cell_type": "code",
   "execution_count": 41,
   "id": "cd0eaddc-7607-4f24-bb13-d001e015e5a5",
   "metadata": {},
   "outputs": [
    {
     "name": "stdout",
     "output_type": "stream",
     "text": [
      "x       = [0 1 2 3]\n",
      "x+5       = [5 6 7 8]\n",
      "x-5       = [-5 -4 -3 -2]\n",
      "x*2       = [0 2 4 6]\n",
      "x/2       = [0.  0.5 1.  1.5]\n",
      "x//2       = [0 0 1 1]\n"
     ]
    }
   ],
   "source": [
    "\"\"\"----------------------------------------------------59쪽부터 코드\"\"\"\n",
    "\"\"\"배열 산술 연산\"\"\"\n",
    "x=np.arange(4)\n",
    "print(\"x       =\" , x)\n",
    "print(\"x+5       =\" , x+5)\n",
    "print(\"x-5       =\" , x-5)\n",
    "print(\"x*2       =\" , x*2)\n",
    "print(\"x/2       =\" , x/2)\n",
    "print(\"x//2       =\" , x//2)\n"
   ]
  },
  {
   "cell_type": "code",
   "execution_count": 53,
   "id": "19a24777-5476-4b27-99b0-b9732d6fb60a",
   "metadata": {},
   "outputs": [
    {
     "name": "stdout",
     "output_type": "stream",
     "text": [
      "-x       = [ 0 -1 -2 -3]\n",
      "x**2       = [0 1 4 9]\n",
      "x%2       = [0 1 0 1]\n"
     ]
    }
   ],
   "source": [
    "\"\"\"음수만드는 단항 ufuncs와 지수연산자 **, 나머지연산자 %\"\"\"\n",
    "x=np.arange(4)\n",
    "print(\"-x       =\" ,-x)\n",
    "print(\"x**2       =\" ,x**2 )\n",
    "print(\"x%2       =\" ,x % 2 )"
   ]
  },
  {
   "cell_type": "code",
   "execution_count": 43,
   "id": "7c8fce7e-033e-451d-83da-daaa4990f28b",
   "metadata": {},
   "outputs": [
    {
     "data": {
      "text/plain": [
       "array([1.  , 0.25, 0.  , 0.25])"
      ]
     },
     "execution_count": 43,
     "metadata": {},
     "output_type": "execute_result"
    }
   ],
   "source": [
    "\"\"\"표준 연산 순서를 따른다.\"\"\"\n",
    "(-0.5*x +1) **2"
   ]
  },
  {
   "cell_type": "code",
   "execution_count": 46,
   "id": "1b07c86c-21d1-435d-8c9c-401da0be3094",
   "metadata": {},
   "outputs": [
    {
     "data": {
      "text/plain": [
       "array([2, 3, 4, 5])"
      ]
     },
     "execution_count": 46,
     "metadata": {},
     "output_type": "execute_result"
    }
   ],
   "source": [
    "\n",
    "\"\"\"np.subtract\n",
    "np.negative\n",
    "np.multiply\n",
    "np.divide /\n",
    "np.floor_divide //\n",
    "np.power\n",
    "np.mod\"\"\"\n",
    "\n",
    "np.add(x,2)"
   ]
  },
  {
   "cell_type": "code",
   "execution_count": 47,
   "id": "3a8421fb-b459-4300-b18c-c5dcf18e7f06",
   "metadata": {},
   "outputs": [
    {
     "data": {
      "text/plain": [
       "array([2, 1, 0, 1, 2])"
      ]
     },
     "execution_count": 47,
     "metadata": {},
     "output_type": "execute_result"
    }
   ],
   "source": [
    "\"\"\"절대값 함수\"\"\"\n",
    "x=np.array([-2,-1,0,1,2])\n",
    "abs(x)"
   ]
  },
  {
   "cell_type": "code",
   "execution_count": 51,
   "id": "1b2a0bcf-2b09-457a-a9b0-5f65ff409566",
   "metadata": {},
   "outputs": [
    {
     "data": {
      "text/plain": [
       "array([5., 5., 2., 1.])"
      ]
     },
     "execution_count": 51,
     "metadata": {},
     "output_type": "execute_result"
    }
   ],
   "source": [
    "\"\"\"복소수일 경우, 절댓삽은 크기를 반환한다.\"\"\"\n",
    "x=np.array([3-4j,4-3j,2+0j, 0+1j])\n",
    "abs(x)"
   ]
  },
  {
   "cell_type": "code",
   "execution_count": 54,
   "id": "85850b10-439f-42f4-aa5f-5183397a7bf0",
   "metadata": {},
   "outputs": [],
   "source": [
    "\"\"\"삼각함수\"\"\"\n",
    "theta = np.linspace(0, np.pi, 3)"
   ]
  },
  {
   "cell_type": "code",
   "execution_count": 56,
   "id": "0d9df7a5-d722-472c-80ad-34544a67474b",
   "metadata": {},
   "outputs": [
    {
     "name": "stdout",
     "output_type": "stream",
     "text": [
      "theta = [0.         1.57079633 3.14159265]\n",
      "sin(theta) = [0.0000000e+00 1.0000000e+00 1.2246468e-16]\n",
      "cos(theta) = [ 1.000000e+00  6.123234e-17 -1.000000e+00]\n",
      "tan(theta) = [ 0.00000000e+00  1.63312394e+16 -1.22464680e-16]\n"
     ]
    }
   ],
   "source": [
    "print(\"theta =\" , theta)\n",
    "print(\"sin(theta) =\" , np.sin(theta))\n",
    "print(\"cos(theta) =\" , np.cos(theta))\n",
    "print(\"tan(theta) =\" , np.tan(theta))"
   ]
  },
  {
   "cell_type": "code",
   "execution_count": 58,
   "id": "55cf9c01-144c-47d2-b498-f324f70dba6f",
   "metadata": {},
   "outputs": [
    {
     "name": "stdout",
     "output_type": "stream",
     "text": [
      "x = [-1, 0, 1]\n",
      "arcsin(x) = [-1.57079633  0.          1.57079633]\n",
      "arccos(x) = [3.14159265 1.57079633 0.        ]\n",
      "arctan(x) = [-0.78539816  0.          0.78539816]\n"
     ]
    }
   ],
   "source": [
    "\"\"\" 역삼각함수\"\"\"\n",
    "x=[-1,0,1]\n",
    "print(\"x =\" , x)\n",
    "print(\"arcsin(x) =\" , np.arcsin(x))\n",
    "print(\"arccos(x) =\" , np.arccos(x))\n",
    "print(\"arctan(x) =\" , np.arctan(x))"
   ]
  },
  {
   "cell_type": "code",
   "execution_count": 59,
   "id": "d7816a91-c095-45a3-8b3b-178ca05e4656",
   "metadata": {},
   "outputs": [
    {
     "name": "stdout",
     "output_type": "stream",
     "text": [
      "x = [1, 2, 3]\n",
      "e^x = [ 2.71828183  7.3890561  20.08553692]\n",
      "2^x = [2. 4. 8.]\n",
      "3^x = [ 3  9 27]\n"
     ]
    }
   ],
   "source": [
    "\"\"\"지수\"\"\"\n",
    "x=[1,2,3]\n",
    "print(\"x =\" , x)\n",
    "print(\"e^x =\" , np.exp(x))\n",
    "print(\"2^x =\" , np.exp2(x))\n",
    "print(\"3^x =\" , np.power(3,x))"
   ]
  },
  {
   "cell_type": "code",
   "execution_count": 60,
   "id": "3bb115e4-b23e-4cb0-9703-0cf03df02094",
   "metadata": {},
   "outputs": [
    {
     "name": "stdout",
     "output_type": "stream",
     "text": [
      "x = [1, 2, 4, 10]\n",
      "ln(x) = [0.         0.69314718 1.38629436 2.30258509]\n",
      "log2(x)= [0.         1.         2.         3.32192809]\n",
      "log10(x)= [0.         0.30103    0.60205999 1.        ]\n"
     ]
    }
   ],
   "source": [
    "\"\"\" 로그\"\"\"\n",
    "x=[1,2,4,10]\n",
    "print(\"x =\" , x)\n",
    "print(\"ln(x) =\" , np.log(x))\n",
    "print(\"log2(x)=\" , np.log2(x))\n",
    "print(\"log10(x)=\" , np.log10(x))"
   ]
  },
  {
   "cell_type": "code",
   "execution_count": 61,
   "id": "5b263546-97d5-4c30-a59d-4528ad94c8ec",
   "metadata": {},
   "outputs": [
    {
     "name": "stdout",
     "output_type": "stream",
     "text": [
      "exp(x)-1= [0.         0.0010005  0.01005017 0.10517092]\n",
      "log(x+1)= [0.         0.0009995  0.00995033 0.09531018]\n"
     ]
    }
   ],
   "source": [
    "\"\"\"x가 매우 작을 때 np.log나 np.exp를 사용했을 때보다 더 정확한 값을 내놓는 함수\"\"\"\n",
    "x=[0,0.001,0.01,0.1]\n",
    "print(\"exp(x)-1=\" , np.expm1(x))\n",
    "print(\"log(x+1)=\" , np.log1p(x))"
   ]
  },
  {
   "cell_type": "code",
   "execution_count": 73,
   "id": "44f3afaa-ba96-4bf9-bec9-37b0b9592d18",
   "metadata": {},
   "outputs": [
    {
     "name": "stdout",
     "output_type": "stream",
     "text": [
      "[0 1 2 3 4]\n",
      "[ 0. 10. 20. 30. 40.]\n"
     ]
    }
   ],
   "source": [
    "\"\"\"출력지정 out은 대규모 배열에서 사용하면 효율적이다.\"\"\"\n",
    "x=np.arange(5)\n",
    "y=np.empty(5)\n",
    "np.multiply(x, 10, out=y)\n",
    "\n",
    "print(y)"
   ]
  },
  {
   "cell_type": "code",
   "execution_count": 78,
   "id": "f1355fd3-28ab-4a51-aa61-3161a2bcf6b2",
   "metadata": {},
   "outputs": [
    {
     "name": "stdout",
     "output_type": "stream",
     "text": [
      "[ 1.  0.  2.  0.  4.  0.  8.  0. 16.  0.]\n"
     ]
    }
   ],
   "source": [
    "y=np.zeros(10)\n",
    "np.power(2, x , out=y[::2])\n",
    "print(y)"
   ]
  },
  {
   "cell_type": "code",
   "execution_count": 80,
   "id": "4603d6b4-1cc0-4e9c-9f39-4c146fdd9f6b",
   "metadata": {},
   "outputs": [
    {
     "data": {
      "text/plain": [
       "15"
      ]
     },
     "execution_count": 80,
     "metadata": {},
     "output_type": "execute_result"
    }
   ],
   "source": [
    "\"\"\"집계\"\"\"\n",
    "\"\"\"add ufunc의 reduce를 호출하면 배열의 모든 요소의 합을 반환한다.\"\"\"\n",
    "x=np.arange(1,6)\n",
    "np.add.reduce(x)\n"
   ]
  },
  {
   "cell_type": "code",
   "execution_count": 81,
   "id": "682c73f5-42de-4e2e-9179-02f7d22ce69d",
   "metadata": {},
   "outputs": [
    {
     "data": {
      "text/plain": [
       "120"
      ]
     },
     "execution_count": 81,
     "metadata": {},
     "output_type": "execute_result"
    }
   ],
   "source": [
    "np.multiply.reduce(x)\n"
   ]
  },
  {
   "cell_type": "code",
   "execution_count": 83,
   "id": "4039d5e5-74fd-4f80-b8a9-295943e37ef3",
   "metadata": {},
   "outputs": [
    {
     "data": {
      "text/plain": [
       "array([ 1,  3,  6, 10, 15])"
      ]
     },
     "execution_count": 83,
     "metadata": {},
     "output_type": "execute_result"
    }
   ],
   "source": [
    "\"\"\"add ufunc의 accumulate를 호출하면 중간결과를 모두 저장한다.\"\"\"\n",
    "np.add.accumulate(x)"
   ]
  },
  {
   "cell_type": "code",
   "execution_count": 84,
   "id": "0207a020-f1c5-4246-9716-9df6155f77af",
   "metadata": {},
   "outputs": [
    {
     "data": {
      "text/plain": [
       "array([[ 1,  2,  3,  4,  5],\n",
       "       [ 2,  4,  6,  8, 10],\n",
       "       [ 3,  6,  9, 12, 15],\n",
       "       [ 4,  8, 12, 16, 20],\n",
       "       [ 5, 10, 15, 20, 25]])"
      ]
     },
     "execution_count": 84,
     "metadata": {},
     "output_type": "execute_result"
    }
   ],
   "source": [
    "\"\"\"외적 outer메서드를 통해 테이블 만드는 것과 같은 일\"\"\"\n",
    "x=np.arange(1,6)\n",
    "np.multiply.outer(x,x)"
   ]
  },
  {
   "cell_type": "code",
   "execution_count": 90,
   "id": "a29fe9a7-581b-40a9-9350-d620f3dfd046",
   "metadata": {},
   "outputs": [
    {
     "data": {
      "text/plain": [
       "array([[ 1,  2,  3,  4],\n",
       "       [ 5,  6,  7,  8],\n",
       "       [ 9, 10, 11, 12]])"
      ]
     },
     "execution_count": 90,
     "metadata": {},
     "output_type": "execute_result"
    }
   ],
   "source": [
    "\"\"\"합, 최소, 최대\n",
    "np.sum()\n",
    "np.max()\n",
    "np.min()\"\"\"\n",
    "\n",
    "data=np.arange(1,13)\n",
    "data=data.reshape((3,4))\n",
    "data"
   ]
  },
  {
   "cell_type": "code",
   "execution_count": 91,
   "id": "6710337b-28a7-41b9-a7c6-da6af90a5d63",
   "metadata": {},
   "outputs": [
    {
     "data": {
      "text/plain": [
       "(78, array([15, 18, 21, 24]), array([10, 26, 42]))"
      ]
     },
     "execution_count": 91,
     "metadata": {},
     "output_type": "execute_result"
    }
   ],
   "source": [
    "np.sum(data) , np.sum(data, axis=0), np.sum(data, axis=1)"
   ]
  },
  {
   "cell_type": "code",
   "execution_count": 122,
   "id": "2ce7da83-d9f9-4674-9ac1-af32c0fc4e11",
   "metadata": {},
   "outputs": [
    {
     "data": {
      "text/plain": [
       "array([[ 1,  2,  3,  4],\n",
       "       [ 5,  6,  7,  8],\n",
       "       [ 9, 10, 11, 12],\n",
       "       [15, 18, 21, 24]])"
      ]
     },
     "execution_count": 122,
     "metadata": {},
     "output_type": "execute_result"
    }
   ],
   "source": [
    "np.concatenate([data, np.sum(data, axis=0)[np.newaxis,:]])"
   ]
  },
  {
   "cell_type": "code",
   "execution_count": 125,
   "id": "eebf1ded-3377-429a-a497-8debfd7f57ef",
   "metadata": {},
   "outputs": [
    {
     "data": {
      "text/plain": [
       "array([[ 1,  2,  3,  4, 10],\n",
       "       [ 5,  6,  7,  8, 26],\n",
       "       [ 9, 10, 11, 12, 42]])"
      ]
     },
     "execution_count": 125,
     "metadata": {},
     "output_type": "execute_result"
    }
   ],
   "source": [
    "np.concatenate([data, np.sum(data, axis=1)[:,np.newaxis]], axis=1)"
   ]
  },
  {
   "cell_type": "code",
   "execution_count": 111,
   "id": "831d0bfa-e842-40f4-b7d6-318548ee87c1",
   "metadata": {},
   "outputs": [
    {
     "name": "stdout",
     "output_type": "stream",
     "text": [
      "[5 2 9 4 3 8 5 3 7 3] [2 3 3 3 4 5 5 7 8 9] [1 4 7 9 3 0 6 8 5 2]\n"
     ]
    }
   ],
   "source": [
    "\"\"\"np.sort(values) 값을 기준으로 값 정렬\"\"\"\n",
    "\"\"\"np.argsort(values)값을 기준으로 인덱스 정렬\"\"\"\n",
    "values=np.random.randint(1,10,10)\n",
    "print(values, np.sort(values), np.argsort(values))"
   ]
  },
  {
   "cell_type": "markdown",
   "id": "c88d28ec-97a1-48ac-8043-2e6d31228886",
   "metadata": {},
   "source": [
    "<h3>practice</h3>\n",
    "70쪽 예제:미국 대통령의 평균 신장은 얼마일까?\n",
    "깃허브에서 데이터받고 실행"
   ]
  },
  {
   "cell_type": "code",
   "execution_count": 169,
   "id": "656a3ae0-d2fa-443b-b62f-4826fea2661b",
   "metadata": {},
   "outputs": [
    {
     "name": "stdout",
     "output_type": "stream",
     "text": [
      "['1,George', 'Washington,189']\n",
      "['2,John', 'Adams,170']\n",
      "['3,Thomas', 'Jefferson,189']\n",
      "['4,James', 'Madison,163']\n",
      "['5,James', 'Monroe,183']\n",
      "['6,John', 'Quincy', 'Adams,171']\n",
      "['7,Andrew', 'Jackson,185']\n",
      "['8,Martin', 'Van', 'Buren,168']\n",
      "['9,William', 'Henry', 'Harrison,173']\n",
      "['10,John', 'Tyler,183']\n",
      "['11,James', 'K.', 'Polk,173']\n",
      "['12,Zachary', 'Taylor,173']\n",
      "['13,Millard', 'Fillmore,175']\n",
      "['14,Franklin', 'Pierce,178']\n",
      "['15,James', 'Buchanan,183']\n",
      "['16,Abraham', 'Lincoln,193']\n",
      "['17,Andrew', 'Johnson,178']\n",
      "['18,Ulysses', 'S.', 'Grant,173']\n",
      "['19,Rutherford', 'B.', 'Hayes,174']\n",
      "['20,James', 'A.', 'Garfield,183']\n",
      "['21,Chester', 'A.', 'Arthur,183']\n",
      "['23,Benjamin', 'Harrison,168']\n",
      "['25,William', 'McKinley,170']\n",
      "['26,Theodore', 'Roosevelt,178']\n",
      "['27,William', 'Howard', 'Taft,182']\n",
      "['28,Woodrow', 'Wilson,180']\n",
      "['29,Warren', 'G.', 'Harding,183']\n",
      "['30,Calvin', 'Coolidge,178']\n",
      "['31,Herbert', 'Hoover,182']\n",
      "['32,Franklin', 'D.', 'Roosevelt,188']\n",
      "['33,Harry', 'S.', 'Truman,175']\n",
      "['34,Dwight', 'D.', 'Eisenhower,179']\n",
      "['35,John', 'F.', 'Kennedy,183']\n",
      "['36,Lyndon', 'B.', 'Johnson,193']\n",
      "['37,Richard', 'Nixon,182']\n",
      "['38,Gerald', 'Ford,183']\n",
      "['39,Jimmy', 'Carter,177']\n",
      "['40,Ronald', 'Reagan,185']\n",
      "['41,George', 'H.', 'W.', 'Bush,188']\n",
      "['42,Bill', 'Clinton,188']\n",
      "['43,George', 'W.', 'Bush,182']\n",
      "['44,Barack', 'Obama,185']\n",
      "['45,Donald', 'Trump,191']\n",
      "['46,Joseph', 'Biden,182']\n"
     ]
    },
    {
     "data": {
      "text/plain": [
       "(array([189, 170, 189, 163, 183, 171, 185, 168, 173, 183, 173, 173, 175,\n",
       "        178, 183, 193, 178, 173, 174, 183, 183, 168, 170, 178, 182, 180,\n",
       "        183, 178, 182, 188, 175, 179, 183, 193, 182, 183, 177, 185, 188,\n",
       "        188, 182, 185, 191, 182]),\n",
       " 180.04545454545453,\n",
       " numpy.float64)"
      ]
     },
     "execution_count": 169,
     "metadata": {},
     "output_type": "execute_result"
    }
   ],
   "source": [
    "with open('data/president_heights.csv') as f:\n",
    "\n",
    "    f.readline()\n",
    "\n",
    "    heights=[]\n",
    "\n",
    "    for line in f.readlines():\n",
    "\n",
    "        print(line.rstrip().split())\n",
    "\n",
    "        heights.append(int(line.rstrip().split(',')[-1]))\n",
    "\n",
    "\n",
    "\n",
    "heights_np = np.asarray(heights)\n",
    "\n",
    "heights_np, np.average(heights_np), type(np.average(heights_np))\n",
    "\n"
   ]
  },
  {
   "cell_type": "code",
   "execution_count": 148,
   "id": "54615546-65fc-451a-8596-1ac9bf48cfcd",
   "metadata": {},
   "outputs": [
    {
     "data": {
      "text/plain": [
       "Text(0, 0.5, 'number')"
      ]
     },
     "execution_count": 148,
     "metadata": {},
     "output_type": "execute_result"
    },
    {
     "data": {
      "image/png": "[encoded data removed]",
      "text/plain": [
       "<Figure size 640x480 with 1 Axes>"
      ]
     },
     "metadata": {},
     "output_type": "display_data"
    }
   ],
   "source": [
    "import matplotlib.pyplot as plt\n",
    "plt.hist(heights)\n",
    "plt.xlabel('height')\n",
    "plt.ylabel('number')"
   ]
  },
  {
   "cell_type": "code",
   "execution_count": 141,
   "id": "99638b85-1917-4d26-8beb-bb89d06d361d",
   "metadata": {},
   "outputs": [
    {
     "data": {
      "text/plain": [
       "array([4, 5, 6])"
      ]
     },
     "execution_count": 141,
     "metadata": {},
     "output_type": "execute_result"
    }
   ],
   "source": [
    "\"\"\"브로드 캐스팅\"\"\"\n",
    "np.array([1,2,3]) +3\n"
   ]
  },
  {
   "cell_type": "code",
   "execution_count": 144,
   "id": "0b18c5d2-f1ec-4fd8-a081-2ba65b27a2f5",
   "metadata": {},
   "outputs": [
    {
     "name": "stdout",
     "output_type": "stream",
     "text": [
      "(3,)\n",
      "(3, 1)\n",
      "[0 1 2]\n",
      "[[0]\n",
      " [1]\n",
      " [2]]\n"
     ]
    }
   ],
   "source": [
    "a=np.arange(3)\n",
    "b=np.arange(3)[:, np.newaxis]\n",
    "print(a.shape)\n",
    "print(b.shape)\n",
    "print(a)\n",
    "print(b)"
   ]
  },
  {
   "cell_type": "code",
   "execution_count": 129,
   "id": "a98751f4-11e9-4e0e-974c-94c4ec4f323a",
   "metadata": {},
   "outputs": [
    {
     "data": {
      "text/plain": [
       "array([[0, 1, 2],\n",
       "       [1, 2, 3],\n",
       "       [2, 3, 4]])"
      ]
     },
     "execution_count": 129,
     "metadata": {},
     "output_type": "execute_result"
    }
   ],
   "source": [
    "a+b"
   ]
  },
  {
   "cell_type": "code",
   "execution_count": 131,
   "id": "ec2a80fa-c5df-4b3e-aa6e-7f22c23746a6",
   "metadata": {},
   "outputs": [
    {
     "name": "stdout",
     "output_type": "stream",
     "text": [
      "[[1. 1. 1.]\n",
      " [1. 1. 1.]]\n",
      "[0 1 2]\n"
     ]
    },
    {
     "data": {
      "text/plain": [
       "array([[1., 2., 3.],\n",
       "       [1., 2., 3.]])"
      ]
     },
     "execution_count": 131,
     "metadata": {},
     "output_type": "execute_result"
    }
   ],
   "source": [
    "\"\"\"1차원 배열에 2차원 배열을 더한 것\"\"\"\n",
    "M=np.ones((2,3))\n",
    "a=np.arange(3)\n",
    "\n",
    "print(M)\n",
    "print(a)\n",
    "M+a"
   ]
  },
  {
   "cell_type": "code",
   "execution_count": 147,
   "id": "9f81226c-45ce-41cd-8acb-756a2d4e99c3",
   "metadata": {},
   "outputs": [
    {
     "name": "stdout",
     "output_type": "stream",
     "text": [
      "[[0]\n",
      " [1]\n",
      " [2]]\n",
      "[0 1 2]\n"
     ]
    },
    {
     "data": {
      "text/plain": [
       "array([[0, 1, 2],\n",
       "       [1, 2, 3],\n",
       "       [2, 3, 4]])"
      ]
     },
     "execution_count": 147,
     "metadata": {},
     "output_type": "execute_result"
    }
   ],
   "source": [
    "\"\"\"브로드캐스팅이 모두 필요한 경우\"\"\"\n",
    "a=np.arange(3).reshape((3,1))\n",
    "b=np.arange(3)\n",
    "print(a)\n",
    "print(b)\n",
    "\n",
    "a+b\n"
   ]
  },
  {
   "cell_type": "code",
   "execution_count": 145,
   "id": "bcb638ae-439c-4054-a575-55b5a00b7bcf",
   "metadata": {},
   "outputs": [
    {
     "ename": "ValueError",
     "evalue": "operands could not be broadcast together with shapes (3,2) (3,) ",
     "output_type": "error",
     "traceback": [
      "\u001b[1;31m---------------------------------------------------------------------------\u001b[0m",
      "\u001b[1;31mValueError\u001b[0m                                Traceback (most recent call last)",
      "Cell \u001b[1;32mIn[145], line 4\u001b[0m\n\u001b[0;32m      2\u001b[0m M\u001b[38;5;241m=\u001b[39mnp\u001b[38;5;241m.\u001b[39mones((\u001b[38;5;241m3\u001b[39m,\u001b[38;5;241m2\u001b[39m))\n\u001b[0;32m      3\u001b[0m a\u001b[38;5;241m=\u001b[39mnp\u001b[38;5;241m.\u001b[39marange(\u001b[38;5;241m3\u001b[39m)\n\u001b[1;32m----> 4\u001b[0m \u001b[43mM\u001b[49m\u001b[38;5;241;43m+\u001b[39;49m\u001b[43ma\u001b[49m\n",
      "\u001b[1;31mValueError\u001b[0m: operands could not be broadcast together with shapes (3,2) (3,) "
     ]
    }
   ],
   "source": [
    "\"\"\"호환되지 않는 경우 , 에러 발생\"\"\"\n",
    "M=np.ones((3,2))\n",
    "a=np.arange(3)\n",
    "M+a"
   ]
  },
  {
   "cell_type": "code",
   "execution_count": 149,
   "id": "a2dae960-a2cb-4d58-a626-14533bef10cf",
   "metadata": {},
   "outputs": [
    {
     "data": {
      "text/plain": [
       "array([[0.17613382, 0.18165647, 0.88820843],\n",
       "       [0.15970081, 0.68261622, 0.04958903],\n",
       "       [0.98212157, 0.53790711, 0.25024305],\n",
       "       [0.44107566, 0.71191478, 0.58985221],\n",
       "       [0.12628015, 0.23787443, 0.77359116],\n",
       "       [0.92674542, 0.90353979, 0.37932676],\n",
       "       [0.76376752, 0.34142676, 0.30085731],\n",
       "       [0.58395487, 0.42974997, 0.08134887],\n",
       "       [0.1546828 , 0.04761397, 0.1783235 ],\n",
       "       [0.13312673, 0.44490009, 0.69893889]])"
      ]
     },
     "execution_count": 149,
     "metadata": {},
     "output_type": "execute_result"
    }
   ],
   "source": [
    "\"\"\"배열을 중앙 정렬하기\"\"\"\n",
    "x=np.random.random((10,3))\n",
    "x"
   ]
  },
  {
   "cell_type": "code",
   "execution_count": 150,
   "id": "9d3ba5b0-73cc-4c1b-945f-68697acdbc43",
   "metadata": {},
   "outputs": [
    {
     "data": {
      "text/plain": [
       "array([0.44475894, 0.45191996, 0.41902792])"
      ]
     },
     "execution_count": 150,
     "metadata": {},
     "output_type": "execute_result"
    }
   ],
   "source": [
    "np.mean(x, axis=0)"
   ]
  },
  {
   "cell_type": "code",
   "execution_count": 151,
   "id": "0a7a8820-b505-4b81-ac80-f7f3589fb5db",
   "metadata": {},
   "outputs": [
    {
     "data": {
      "text/plain": [
       "(array([[-0.26862512, -0.27026349,  0.46918051],\n",
       "        [-0.28505813,  0.23069626, -0.36943889],\n",
       "        [ 0.53736264,  0.08598715, -0.16878487],\n",
       "        [-0.00368328,  0.25999482,  0.17082429],\n",
       "        [-0.31847878, -0.21404553,  0.35456324],\n",
       "        [ 0.48198649,  0.45161983, -0.03970116],\n",
       "        [ 0.31900858, -0.1104932 , -0.11817061],\n",
       "        [ 0.13919594, -0.02216999, -0.33767905],\n",
       "        [-0.29007613, -0.40430599, -0.24070442],\n",
       "        [-0.31163221, -0.00701987,  0.27991097]]),\n",
       " (10, 3))"
      ]
     },
     "execution_count": 151,
     "metadata": {},
     "output_type": "execute_result"
    }
   ],
   "source": [
    "center_x = x - np.mean(x, axis=0)\n",
    "center_x, center_x.shape"
   ]
  },
  {
   "cell_type": "code",
   "execution_count": 152,
   "id": "ff3bcb56-19a7-4b49-ad6d-0369e1fcabb0",
   "metadata": {},
   "outputs": [
    {
     "data": {
      "text/plain": [
       "7.401486830834377e-18"
      ]
     },
     "execution_count": 152,
     "metadata": {},
     "output_type": "execute_result"
    }
   ],
   "source": [
    "np.average(center_x)"
   ]
  },
  {
   "cell_type": "code",
   "execution_count": 154,
   "id": "4806dbe8-6bf1-4491-b778-b1f41dca3e95",
   "metadata": {},
   "outputs": [
    {
     "name": "stdout",
     "output_type": "stream",
     "text": [
      "[0.         0.10204082 0.20408163 0.30612245 0.40816327 0.51020408\n",
      " 0.6122449  0.71428571 0.81632653 0.91836735 1.02040816 1.12244898\n",
      " 1.2244898  1.32653061 1.42857143 1.53061224 1.63265306 1.73469388\n",
      " 1.83673469 1.93877551 2.04081633 2.14285714 2.24489796 2.34693878\n",
      " 2.44897959 2.55102041 2.65306122 2.75510204 2.85714286 2.95918367\n",
      " 3.06122449 3.16326531 3.26530612 3.36734694 3.46938776 3.57142857\n",
      " 3.67346939 3.7755102  3.87755102 3.97959184 4.08163265 4.18367347\n",
      " 4.28571429 4.3877551  4.48979592 4.59183673 4.69387755 4.79591837\n",
      " 4.89795918 5.        ]\n",
      "[[0.        ]\n",
      " [0.10204082]\n",
      " [0.20408163]\n",
      " [0.30612245]\n",
      " [0.40816327]\n",
      " [0.51020408]\n",
      " [0.6122449 ]\n",
      " [0.71428571]\n",
      " [0.81632653]\n",
      " [0.91836735]\n",
      " [1.02040816]\n",
      " [1.12244898]\n",
      " [1.2244898 ]\n",
      " [1.32653061]\n",
      " [1.42857143]\n",
      " [1.53061224]\n",
      " [1.63265306]\n",
      " [1.73469388]\n",
      " [1.83673469]\n",
      " [1.93877551]\n",
      " [2.04081633]\n",
      " [2.14285714]\n",
      " [2.24489796]\n",
      " [2.34693878]\n",
      " [2.44897959]\n",
      " [2.55102041]\n",
      " [2.65306122]\n",
      " [2.75510204]\n",
      " [2.85714286]\n",
      " [2.95918367]\n",
      " [3.06122449]\n",
      " [3.16326531]\n",
      " [3.26530612]\n",
      " [3.36734694]\n",
      " [3.46938776]\n",
      " [3.57142857]\n",
      " [3.67346939]\n",
      " [3.7755102 ]\n",
      " [3.87755102]\n",
      " [3.97959184]\n",
      " [4.08163265]\n",
      " [4.18367347]\n",
      " [4.28571429]\n",
      " [4.3877551 ]\n",
      " [4.48979592]\n",
      " [4.59183673]\n",
      " [4.69387755]\n",
      " [4.79591837]\n",
      " [4.89795918]\n",
      " [5.        ]]\n",
      "(50,) (50, 1)\n"
     ]
    }
   ],
   "source": [
    "x=np.linspace(0,5,50)\n",
    "y=np.linspace(0,5,50)[:,np.newaxis]\n",
    "print(x)\n",
    "print(y)\n",
    "print(x.shape, y.shape)"
   ]
  },
  {
   "cell_type": "code",
   "execution_count": 155,
   "id": "54d3deba-5c98-425d-be99-f07926a81de7",
   "metadata": {},
   "outputs": [
    {
     "data": {
      "text/plain": [
       "<matplotlib.colorbar.Colorbar at 0x25e591654c0>"
      ]
     },
     "execution_count": 155,
     "metadata": {},
     "output_type": "execute_result"
    },
    {
     "data": {
      "image/png": "[encoded data removed]",
      "text/plain": [
       "<Figure size 640x480 with 2 Axes>"
      ]
     },
     "metadata": {},
     "output_type": "display_data"
    }
   ],
   "source": [
    "z=np.sin(x)**10 + np.cos(10+x+y)*np.cos(x)\n",
    "\n",
    "plt.imshow(z, origin='lower' , extent=[0,5,0,5], cmap='viridis')\n",
    "plt.colorbar()"
   ]
  },
  {
   "cell_type": "code",
   "execution_count": null,
   "id": "8c910a2c-06de-4650-a0a6-a81bd909a002",
   "metadata": {},
   "outputs": [],
   "source": [
    "\"\"\"비온 날 세기\"\"\"\n",
    "with open('data/austin_weather_2024.csv') as f:\n",
    "\n",
    "    f.readline()\n",
    "\n",
    "    heights=[]\n",
    "\n",
    "    for line in f.readlines():\n",
    "\n",
    "     \n",
    "\n",
    "        heights.append(int(line.rstrip().split(',')[-1]))\n",
    "\n",
    "\n",
    "\n",
    "heights_np = np.asarray(heights)\n",
    "\n",
    "heights_np, np.average(heights_np), type(np.average(heights_np))\n",
    "\n"
   ]
  },
  {
   "cell_type": "code",
   "execution_count": null,
   "id": "4e7cfe54-8b08-4048-a82c-18533f83f52f",
   "metadata": {},
   "outputs": [],
   "source": [
    "\"\"\"비교연산자\"\"\"\n",
    "\"\"\"요소 개수 세기 np.count_nonzero()\"\"\"\n",
    "\"\"\"np.any() np.all()\"\"\"\n",
    "\"\"\"부울 연산자 & | ^(xor) ~(not)\"\"\"\n",
    "\"\"\"마스크로서의 부울 배열-마스크가 조건을 담은 변수 역할\"\"\"\n",
    "\"\"\"and or 은 전체 객체의 참 거짓 /////////////&| 각 객체의 비트\"\"\""
   ]
  },
  {
   "cell_type": "markdown",
   "id": "40816363-6056-48e0-b51f-0e4a99554043",
   "metadata": {},
   "source": [
    "<h3>팬시 인덱싱</h3>"
   ]
  },
  {
   "cell_type": "code",
   "execution_count": 158,
   "id": "88f037b1-68d4-4295-b627-7c7df8cbd111",
   "metadata": {},
   "outputs": [
    {
     "name": "stdout",
     "output_type": "stream",
     "text": [
      "[51 92 14 71 60 20 82 86 74 74]\n"
     ]
    }
   ],
   "source": [
    "\"\"\"팬시 인덱싱\"\"\"\n",
    "rand = np.random.RandomState(42)\n",
    "x=rand.randint(100, size=10)\n",
    "print(x)"
   ]
  },
  {
   "cell_type": "code",
   "execution_count": 159,
   "id": "27593a14-2fd9-4e3d-829c-d54676912f60",
   "metadata": {},
   "outputs": [
    {
     "data": {
      "text/plain": [
       "[71, 86, 14]"
      ]
     },
     "execution_count": 159,
     "metadata": {},
     "output_type": "execute_result"
    }
   ],
   "source": [
    "[x[3], x[7], x[2]]"
   ]
  },
  {
   "cell_type": "code",
   "execution_count": 177,
   "id": "68def9f3-3eff-43a9-a7bb-97193489638e",
   "metadata": {},
   "outputs": [
    {
     "data": {
      "text/plain": [
       "array([71, 86, 14])"
      ]
     },
     "execution_count": 177,
     "metadata": {},
     "output_type": "execute_result"
    }
   ],
   "source": [
    "x[[3,7,2]]"
   ]
  },
  {
   "cell_type": "code",
   "execution_count": 161,
   "id": "699ada4a-b5fb-4a0f-921e-d4c569b94cdc",
   "metadata": {},
   "outputs": [
    {
     "data": {
      "text/plain": [
       "array([[71, 86],\n",
       "       [60, 20]])"
      ]
     },
     "execution_count": 161,
     "metadata": {},
     "output_type": "execute_result"
    }
   ],
   "source": [
    "ind=np.array([[3,7],[4,5]])\n",
    "x[ind]"
   ]
  },
  {
   "cell_type": "code",
   "execution_count": 162,
   "id": "c1390f4a-0057-4644-b27f-5c691e0bf680",
   "metadata": {},
   "outputs": [
    {
     "data": {
      "text/plain": [
       "array([[ 0,  1,  2,  3],\n",
       "       [ 4,  5,  6,  7],\n",
       "       [ 8,  9, 10, 11]])"
      ]
     },
     "execution_count": 162,
     "metadata": {},
     "output_type": "execute_result"
    }
   ],
   "source": [
    "X=np.arange(12).reshape((3,4))\n",
    "X"
   ]
  },
  {
   "cell_type": "code",
   "execution_count": 163,
   "id": "cd2a37a8-e041-4d42-b941-4569a75ebc8c",
   "metadata": {},
   "outputs": [
    {
     "data": {
      "text/plain": [
       "array([ 2,  5, 11])"
      ]
     },
     "execution_count": 163,
     "metadata": {},
     "output_type": "execute_result"
    }
   ],
   "source": [
    "row=np.array([0,1,2])\n",
    "col=np.array([2,1,3])\n",
    "X[row, col]"
   ]
  },
  {
   "cell_type": "code",
   "execution_count": 170,
   "id": "bf2d41c1-7498-4a5e-b584-552ce942e21f",
   "metadata": {},
   "outputs": [
    {
     "data": {
      "text/plain": [
       "array([[ 2,  1,  3],\n",
       "       [ 6,  5,  7],\n",
       "       [10,  9, 11]])"
      ]
     },
     "execution_count": 170,
     "metadata": {},
     "output_type": "execute_result"
    }
   ],
   "source": [
    "\"\"\"X에서 해당되는 인덱스 값을 출력\"\"\"\n",
    "X[row[:, np.newaxis], col]"
   ]
  },
  {
   "cell_type": "code",
   "execution_count": 171,
   "id": "01ac24a4-b45c-4c18-9182-7f0e6a6f9b8a",
   "metadata": {},
   "outputs": [
    {
     "name": "stdout",
     "output_type": "stream",
     "text": [
      "[[ 0  1  2  3]\n",
      " [ 4  5  6  7]\n",
      " [ 8  9 10 11]]\n"
     ]
    },
    {
     "data": {
      "text/plain": [
       "array([10,  8,  9])"
      ]
     },
     "execution_count": 171,
     "metadata": {},
     "output_type": "execute_result"
    }
   ],
   "source": [
    "\"\"\"결합인덱싱\"\"\"\n",
    "print(X)\n",
    "X[2,[2,0,1]]"
   ]
  },
  {
   "cell_type": "code",
   "execution_count": 172,
   "id": "7bc97c84-f2ed-4dd0-8d90-f6c6b94f79aa",
   "metadata": {},
   "outputs": [
    {
     "data": {
      "text/plain": [
       "array([[ 6,  4,  5],\n",
       "       [10,  8,  9]])"
      ]
     },
     "execution_count": 172,
     "metadata": {},
     "output_type": "execute_result"
    }
   ],
   "source": [
    "X[1:,[2,0,1]]"
   ]
  },
  {
   "cell_type": "code",
   "execution_count": 176,
   "id": "1394e46c-ab4d-4802-8374-ded22aecf09b",
   "metadata": {},
   "outputs": [
    {
     "name": "stdout",
     "output_type": "stream",
     "text": [
      "(3, 1)\n"
     ]
    },
    {
     "data": {
      "text/plain": [
       "array([[ 0,  2],\n",
       "       [ 4,  6],\n",
       "       [ 8, 10]])"
      ]
     },
     "execution_count": 176,
     "metadata": {},
     "output_type": "execute_result"
    }
   ],
   "source": [
    "\n",
    "mask=np.array([1,0,1,0],dtype=bool)\n",
    "print(row[:, np.newaxis].shape)\n",
    "X[row[:, np.newaxis], mask]"
   ]
  },
  {
   "cell_type": "code",
   "execution_count": 178,
   "id": "d65594a9-c9ba-49b4-a0e1-2d2a7c0e5b01",
   "metadata": {},
   "outputs": [
    {
     "data": {
      "text/plain": [
       "[1, 2, 3]"
      ]
     },
     "execution_count": 178,
     "metadata": {},
     "output_type": "execute_result"
    }
   ],
   "source": [
    "\"\"\"파이썬\"\"\"\n",
    "\"\"\"sorted는 정렬된 복사본 반환\"\"\"\n",
    "L=[3,2,1]\n",
    "sorted(L)"
   ]
  },
  {
   "cell_type": "code",
   "execution_count": 180,
   "id": "1e31a338-40ca-48da-929a-6dc47b53f1ac",
   "metadata": {},
   "outputs": [
    {
     "name": "stdout",
     "output_type": "stream",
     "text": [
      "[1, 2, 3]\n"
     ]
    }
   ],
   "source": [
    "\"\"\"sort는 정렬실행 후 반환하지 않음\"\"\"\n",
    "L.sort()\n",
    "print(L)"
   ]
  },
  {
   "cell_type": "code",
   "execution_count": 182,
   "id": "ea70072c-47bf-4dec-a1d6-c7acac2ca880",
   "metadata": {},
   "outputs": [
    {
     "data": {
      "text/plain": [
       "array([2, 3, 5, 9])"
      ]
     },
     "execution_count": 182,
     "metadata": {},
     "output_type": "execute_result"
    }
   ],
   "source": [
    "\n",
    "\"\"\" numpy\"\"\"\n",
    "\"\"\"sort는 정렬된 복사본 반환\"\"\"\n",
    "x=np.array([3,5,2,9])\n",
    "np.sort(x)"
   ]
  },
  {
   "cell_type": "code",
   "execution_count": 183,
   "id": "5169dd3a-c141-4a74-8d96-0eba0ca98e96",
   "metadata": {},
   "outputs": [
    {
     "name": "stdout",
     "output_type": "stream",
     "text": [
      "[1 0 3 2 4]\n"
     ]
    }
   ],
   "source": [
    "\"\"\"argsort는 정렬실행 반환하지 않음/정렬결과도 인덱스임\"\"\"\n",
    "x=np.array([2,1,4,3,5])\n",
    "i=np.argsort(x)\n",
    "print(i)"
   ]
  },
  {
   "cell_type": "code",
   "execution_count": null,
   "id": "82b4562c-eddb-4e8a-b850-2a3a2b83f004",
   "metadata": {},
   "outputs": [],
   "source": []
  }
 ],
 "metadata": {
  "kernelspec": {
   "display_name": "Python 3 (ipykernel)",
   "language": "python",
   "name": "python3"
  },
  "language_info": {
   "codemirror_mode": {
    "name": "ipython",
    "version": 3
   },
   "file_extension": ".py",
   "mimetype": "text/x-python",
   "name": "python",
   "nbconvert_exporter": "python",
   "pygments_lexer": "ipython3",
   "version": "3.9.13"
  }
 },
 "nbformat": 4,
 "nbformat_minor": 5
}
