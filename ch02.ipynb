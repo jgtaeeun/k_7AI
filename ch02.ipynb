{
 "cells": [
  {
   "cell_type": "markdown",
   "id": "69628d25-eb00-48ee-b6da-5528b2768090",
   "metadata": {},
   "source": [
    "<h1>2장 numpy로 배열만들기</h1>\n",
    "\n",
    "44쪽~45쪽 중요!\n",
    "\n",
    "정수형 int32\n",
    "부동소수점형 float64\n",
    "변수.dtype\n",
    "\n"
   ]
  },
  {
   "cell_type": "code",
   "execution_count": null,
   "id": "3e0a9878-09a5-4a55-9c9e-6f9f117caadf",
   "metadata": {},
   "outputs": [],
   "source": [
    "\"\"\" dtype = int, float , 'int32' , 'float32'\"\"\"\n",
    "\"\"\" np.array()\"\"\" \n",
    "\"\"\" np.zeros() np.ones()\"\"\" \n",
    "\n"
   ]
  },
  {
   "cell_type": "code",
   "execution_count": 2,
   "id": "0e62cb16-c9ce-4dca-b3be-0467558a32f4",
   "metadata": {},
   "outputs": [
    {
     "data": {
      "text/plain": [
       "'1.26.4'"
      ]
     },
     "execution_count": 2,
     "metadata": {},
     "output_type": "execute_result"
    }
   ],
   "source": [
    "import numpy\n",
    "numpy.__version__"
   ]
  },
  {
   "cell_type": "code",
   "execution_count": 4,
   "id": "eadb1978-977a-4d88-b85a-21b1d303c9fe",
   "metadata": {},
   "outputs": [],
   "source": [
    "import numpy as np"
   ]
  },
  {
   "cell_type": "code",
   "execution_count": 20,
   "id": "a80d6dd8-e41b-4cda-8818-69ae30bd59e0",
   "metadata": {},
   "outputs": [
    {
     "data": {
      "text/plain": [
       "(numpy.ndarray, dtype('int32'))"
      ]
     },
     "execution_count": 20,
     "metadata": {},
     "output_type": "execute_result"
    }
   ],
   "source": [
    "\"\"\"numpy는 배열의 모든 요소가 같은 타입이어햐 한다. 일치하지 않을 경우, 상위 타입을 취하게 된다.\"\"\"\n",
    "a= np.array([1,4,2,5,3])\n",
    "type(a), a.dtype"
   ]
  },
  {
   "cell_type": "code",
   "execution_count": 7,
   "id": "ac523a47-8682-4cd6-b5b4-ab3666afeda0",
   "metadata": {},
   "outputs": [
    {
     "data": {
      "text/plain": [
       "array([3.14, 4.  , 2.  , 5.  , 3.  ])"
      ]
     },
     "execution_count": 7,
     "metadata": {},
     "output_type": "execute_result"
    }
   ],
   "source": [
    "\"\"\"numpy는 배열의 모든 요소 타입이 일치하지 않을 경우, 상위 타입을 취하게 된다. 정수의 상위타입은 부동소수점형이다.\"\"\"\n",
    "np.array([3.14,4,2,5,3])"
   ]
  },
  {
   "cell_type": "code",
   "execution_count": 10,
   "id": "42957c7a-96b5-4486-9a1e-4fb0d622fc65",
   "metadata": {},
   "outputs": [
    {
     "data": {
      "text/plain": [
       "array([3., 4., 2., 5., 3.], dtype=float32)"
      ]
     },
     "execution_count": 10,
     "metadata": {},
     "output_type": "execute_result"
    }
   ],
   "source": [
    "\"\"\"명시적으로 결과 배열의 데이터 타입을 설정하려면 dtype 키워드를 사용하면 된다.\"\"\"\n",
    "np.array([3,4,2,5,3], dtype='float32')"
   ]
  },
  {
   "cell_type": "code",
   "execution_count": 11,
   "id": "d146d38d-9728-4ee4-a8f8-4865b4e9317c",
   "metadata": {},
   "outputs": [
    {
     "data": {
      "text/plain": [
       "array([[2, 3, 4],\n",
       "       [4, 5, 6],\n",
       "       [6, 7, 8]])"
      ]
     },
     "execution_count": 11,
     "metadata": {},
     "output_type": "execute_result"
    }
   ],
   "source": [
    "\"\"\"리스트의 리스트를 사용해 다차원배열을 초기화 하는 방법\"\"\"\n",
    "np.array([range(i, i+3) for i in [2,4,6]])"
   ]
  },
  {
   "cell_type": "code",
   "execution_count": 13,
   "id": "fec6faae-55a4-4ff5-a063-fcf7262864af",
   "metadata": {},
   "outputs": [
    {
     "data": {
      "text/plain": [
       "array([0, 0, 0, 0, 0, 0, 0, 0, 0, 0])"
      ]
     },
     "execution_count": 13,
     "metadata": {},
     "output_type": "execute_result"
    }
   ],
   "source": [
    "\"\"\"규모가 큰 배열의 경우에는 numpy에 내장된 루틴을 사용해 처음부터 배열을 생성하는 것이 더 효과적이다.\"\"\"\n",
    "\n",
    "np.zeros(10, dtype =int)"
   ]
  },
  {
   "cell_type": "code",
   "execution_count": 23,
   "id": "0dccd6f3-dae5-4155-b261-7d5f6ad6c3c3",
   "metadata": {},
   "outputs": [
    {
     "data": {
      "text/plain": [
       "tuple"
      ]
     },
     "execution_count": 23,
     "metadata": {},
     "output_type": "execute_result"
    }
   ],
   "source": [
    "\"\"\"n행m열일 때 (n,m)\"\"\"\n",
    "t = (2, 3)\n",
    "type(t) "
   ]
  },
  {
   "cell_type": "code",
   "execution_count": 24,
   "id": "297e1de6-3e5a-4b02-8db8-9941cb3e950e",
   "metadata": {},
   "outputs": [
    {
     "data": {
      "text/plain": [
       "(dtype('float64'), (3, 5))"
      ]
     },
     "execution_count": 24,
     "metadata": {},
     "output_type": "execute_result"
    }
   ],
   "source": [
    "\"\"\"1로 채운 3행5열 부동 소수점 배열\"\"\"\n",
    "c=np.ones((3,5),dtype=float)\n",
    "c.dtype , c.shape"
   ]
  },
  {
   "cell_type": "code",
   "execution_count": 15,
   "id": "30db9e86-e2cb-4543-9848-62fa812cd7ae",
   "metadata": {},
   "outputs": [
    {
     "data": {
      "text/plain": [
       "array([[3.14, 3.14, 3.14, 3.14, 3.14],\n",
       "       [3.14, 3.14, 3.14, 3.14, 3.14],\n",
       "       [3.14, 3.14, 3.14, 3.14, 3.14]])"
      ]
     },
     "execution_count": 15,
     "metadata": {},
     "output_type": "execute_result"
    }
   ],
   "source": [
    "\"\"\"3.14로 채운 3행5열배열\"\"\"\n",
    "np.full((3,5),3.14)"
   ]
  },
  {
   "cell_type": "code",
   "execution_count": 27,
   "id": "cc9cb2da-5691-4355-9537-dfd5409bdc48",
   "metadata": {},
   "outputs": [
    {
     "data": {
      "text/plain": [
       "array([0, 1, 2, 3, 4, 5, 6, 7, 8, 9])"
      ]
     },
     "execution_count": 27,
     "metadata": {},
     "output_type": "execute_result"
    }
   ],
   "source": [
    "\"\"\"range(10)과 arange(10) 결과 0~9로 동일/ arange의 결과는 numpy.ndarray 타입이다.\"\"\"\n",
    "np.arange(10)"
   ]
  },
  {
   "cell_type": "code",
   "execution_count": 16,
   "id": "00fb9664-44c4-4fea-bb72-83bb33b658f9",
   "metadata": {},
   "outputs": [
    {
     "data": {
      "text/plain": [
       "array([ 0,  2,  4,  6,  8, 10, 12, 14, 16, 18])"
      ]
     },
     "execution_count": 16,
     "metadata": {},
     "output_type": "execute_result"
    }
   ],
   "source": [
    "\"\"\"0부터 20까지 2씩 더해서 채움\"\"\"\n",
    "np.arange(0,20,2)"
   ]
  },
  {
   "cell_type": "code",
   "execution_count": 17,
   "id": "3ac8b4e7-ed8a-4c37-9988-9ff7341ec02d",
   "metadata": {},
   "outputs": [
    {
     "data": {
      "text/plain": [
       "array([0.  , 0.25, 0.5 , 0.75, 1.  ])"
      ]
     },
     "execution_count": 17,
     "metadata": {},
     "output_type": "execute_result"
    }
   ],
   "source": [
    "\"\"\"0과 1사이에 일정한 간격을 가진 다섯 개의 값으로 채운 배열\"\"\"\n",
    "\"\"\"차트에 x축을 그릴 때 주로 쓴다.\"\"\"\n",
    "np.linspace(0,1,5)"
   ]
  },
  {
   "cell_type": "code",
   "execution_count": 18,
   "id": "d225b73f-6d80-43d0-9adf-91bc3b5f6603",
   "metadata": {},
   "outputs": [
    {
     "data": {
      "text/plain": [
       "array([[0.20672697, 0.74397529, 0.11219296],\n",
       "       [0.87828814, 0.57291859, 0.7865225 ],\n",
       "       [0.57208047, 0.3053895 , 0.72497433]])"
      ]
     },
     "execution_count": 18,
     "metadata": {},
     "output_type": "execute_result"
    }
   ],
   "source": [
    "\"\"\"3행3열 배열 균등하게 분포\"\"\"\n",
    "np.random.random((3,3))"
   ]
  },
  {
   "cell_type": "code",
   "execution_count": 6,
   "id": "5c5144f1-f6ca-4137-a68b-7e0d42fbd962",
   "metadata": {},
   "outputs": [
    {
     "data": {
      "text/plain": [
       "((32, 3, 224, 224), 4816896)"
      ]
     },
     "execution_count": 6,
     "metadata": {},
     "output_type": "execute_result"
    }
   ],
   "source": [
    "color_img= np.random.random((32,3,224,224))\n",
    "color_img.shape , color_img.size"
   ]
  },
  {
   "cell_type": "code",
   "execution_count": 9,
   "id": "d88e72ce-3526-4656-8444-94ce123d7274",
   "metadata": {},
   "outputs": [
    {
     "data": {
      "text/plain": [
       "array([[ 0.84828011,  0.45955556,  0.70835783],\n",
       "       [ 1.13939089,  1.03760318,  0.96050602],\n",
       "       [ 1.30562973, -0.168228  , -0.19815124]])"
      ]
     },
     "execution_count": 9,
     "metadata": {},
     "output_type": "execute_result"
    }
   ],
   "source": [
    "\"\"\"정규분포(평균 0, 표준편차 1)\"\"\"\n",
    "np.random.normal(0,1,(3,3))\n"
   ]
  },
  {
   "cell_type": "code",
   "execution_count": 11,
   "id": "02049d4a-18fe-462d-9a38-09b7b830f816",
   "metadata": {},
   "outputs": [
    {
     "data": {
      "text/plain": [
       "array([[ 3.83663772,  1.94801558, -0.97666575],\n",
       "       [ 1.11486727,  3.71140833,  0.56827604],\n",
       "       [ 4.78067432,  5.44479596, -0.47067035]])"
      ]
     },
     "execution_count": 11,
     "metadata": {},
     "output_type": "execute_result"
    }
   ],
   "source": [
    "\n",
    "\"\"\"노이즈 만들 때 \"\"\"\n",
    "np.random.normal(2,3,(3,3))"
   ]
  },
  {
   "cell_type": "code",
   "execution_count": 29,
   "id": "1aa36335-ab50-4fef-aa34-8fb1cfda0e56",
   "metadata": {},
   "outputs": [
    {
     "data": {
      "text/plain": [
       "array([[9, 2, 9],\n",
       "       [8, 2, 2],\n",
       "       [4, 5, 0]])"
      ]
     },
     "execution_count": 29,
     "metadata": {},
     "output_type": "execute_result"
    }
   ],
   "source": [
    "\"\"\"3행3열 배열만들기\"\"\"\n",
    "np.random.randint(0,10,(3,3))"
   ]
  },
  {
   "cell_type": "code",
   "execution_count": 30,
   "id": "ce1cda71-ede6-4563-8d2f-22f9b3178751",
   "metadata": {},
   "outputs": [
    {
     "data": {
      "text/plain": [
       "array([[1., 0., 0.],\n",
       "       [0., 1., 0.],\n",
       "       [0., 0., 1.]])"
      ]
     },
     "execution_count": 30,
     "metadata": {},
     "output_type": "execute_result"
    }
   ],
   "source": [
    "\"\"\"3행3열 단위행렬 만들기\"\"\"\n",
    "np.eye(3)"
   ]
  },
  {
   "cell_type": "code",
   "execution_count": 31,
   "id": "440db72b-5c51-437a-83f4-345d4335711e",
   "metadata": {},
   "outputs": [
    {
     "data": {
      "text/plain": [
       "array([1., 1., 1.])"
      ]
     },
     "execution_count": 31,
     "metadata": {},
     "output_type": "execute_result"
    }
   ],
   "source": [
    "\"\"\"초기화 되지 않은 배열?\"\"\"\n",
    "np.empty(3)"
   ]
  },
  {
   "cell_type": "code",
   "execution_count": 13,
   "id": "01cb32ae-9198-4395-85a2-186190fde68d",
   "metadata": {},
   "outputs": [],
   "source": [
    "import numpy as np\n",
    "np.random.seed(0)\n",
    "\n",
    "x1=np.random.randint(10, size=6)   #1차원\n",
    "x2=np.random.randint(10, size=(3,4))  #2차원\n",
    "x3=np.random.randint(10,  size=(3,4,5))  #3차원"
   ]
  },
  {
   "cell_type": "code",
   "execution_count": 39,
   "id": "31b2b15b-8141-4b83-875c-da60fb7220be",
   "metadata": {},
   "outputs": [],
   "source": [
    "def desc(N: np.ndarray):\n",
    "    print(f'shape : {N.shape},dtype :{N.dtype} , ndim : {N. ndim}, size : {N.size}')"
   ]
  },
  {
   "cell_type": "code",
   "execution_count": 14,
   "id": "7df4393c-b6e6-4d66-95cb-b2ca4248a77e",
   "metadata": {},
   "outputs": [
    {
     "name": "stdout",
     "output_type": "stream",
     "text": [
      "x3 ndim: 3\n",
      "x3 shape: (3, 4, 5)\n",
      "x3 size: 60\n",
      "dtype: int32\n"
     ]
    }
   ],
   "source": [
    "\"\"\"ndim(차원의 개수) , shape(각 차원의 크기), size(배열의 전체 크기) , dtype(각 요소의 타입)\"\"\"\n",
    "print(\"x3 ndim:\" , x3.ndim)\n",
    "print(\"x3 shape:\" , x3.shape)\n",
    "print(\"x3 size:\" , x3.size)\n",
    "print(\"dtype:\" , x3.dtype)"
   ]
  },
  {
   "cell_type": "code",
   "execution_count": 40,
   "id": "eeb6bd4b-b3f7-4085-9305-7ffc27109447",
   "metadata": {},
   "outputs": [
    {
     "name": "stdout",
     "output_type": "stream",
     "text": [
      "shape : (3, 4),dtype :int32 , ndim : 2, size : 12\n"
     ]
    },
    {
     "data": {
      "text/plain": [
       "array([[ 1,  2,  3,  4],\n",
       "       [ 5,  6,  7,  8],\n",
       "       [ 9, 10, 11, 12]])"
      ]
     },
     "execution_count": 40,
     "metadata": {},
     "output_type": "execute_result"
    }
   ],
   "source": [
    "arr =  np.arange(1,13).reshape((3,4))\n",
    "desc(arr)\n",
    "arr"
   ]
  },
  {
   "cell_type": "code",
   "execution_count": 15,
   "id": "91da51be-aac3-4850-9678-bae74b6c5290",
   "metadata": {},
   "outputs": [
    {
     "data": {
      "text/plain": [
       "array([5, 0, 3, 3, 7, 9])"
      ]
     },
     "execution_count": 15,
     "metadata": {},
     "output_type": "execute_result"
    }
   ],
   "source": [
    "\"단일 요소 접근\"\n",
    "x1"
   ]
  },
  {
   "cell_type": "code",
   "execution_count": 16,
   "id": "4a368e95-b069-48d7-8500-f84fba7eb246",
   "metadata": {},
   "outputs": [
    {
     "data": {
      "text/plain": [
       "5"
      ]
     },
     "execution_count": 16,
     "metadata": {},
     "output_type": "execute_result"
    }
   ],
   "source": [
    "\"\"\"배열의 앞에서부터 인덱싱하려면 0부터 시작\"\"\"\n",
    "x1[0]"
   ]
  },
  {
   "cell_type": "code",
   "execution_count": 17,
   "id": "ec55ebe6-1d8f-4769-b391-391515dc52a7",
   "metadata": {},
   "outputs": [
    {
     "data": {
      "text/plain": [
       "9"
      ]
     },
     "execution_count": 17,
     "metadata": {},
     "output_type": "execute_result"
    }
   ],
   "source": [
    "\"\"\"배열의 끝에서부터 인덱싱하려면 음수 인덱스를 사용하면 된다. -1부터 시작\"\"\"\n",
    "x1[-1]"
   ]
  },
  {
   "cell_type": "code",
   "execution_count": 18,
   "id": "fb096600-ad1a-4cfe-8e9d-e44ab4be139c",
   "metadata": {},
   "outputs": [
    {
     "data": {
      "text/plain": [
       "array([[3, 5, 2, 4],\n",
       "       [7, 6, 8, 8],\n",
       "       [1, 6, 7, 7]])"
      ]
     },
     "execution_count": 18,
     "metadata": {},
     "output_type": "execute_result"
    }
   ],
   "source": [
    "x2"
   ]
  },
  {
   "cell_type": "code",
   "execution_count": 19,
   "id": "9591a47e-952d-4357-8585-c9bab6267f9d",
   "metadata": {},
   "outputs": [
    {
     "data": {
      "text/plain": [
       "3"
      ]
     },
     "execution_count": 19,
     "metadata": {},
     "output_type": "execute_result"
    }
   ],
   "source": [
    "x2[0,0]"
   ]
  },
  {
   "cell_type": "code",
   "execution_count": 20,
   "id": "daa5e584-ff51-4cc0-a68b-0750b249752e",
   "metadata": {},
   "outputs": [
    {
     "data": {
      "text/plain": [
       "array([[12,  5,  2,  4],\n",
       "       [ 7,  6,  8,  8],\n",
       "       [ 1,  6,  7,  7]])"
      ]
     },
     "execution_count": 20,
     "metadata": {},
     "output_type": "execute_result"
    }
   ],
   "source": [
    "\"\"\"인덱스를 사용해서 값 수정(1개)\"\"\"\n",
    "x2[0,0]=12\n",
    "x2"
   ]
  },
  {
   "cell_type": "code",
   "execution_count": 42,
   "id": "ea0e5bae-61d9-4c62-a690-693728ca1f89",
   "metadata": {},
   "outputs": [
    {
     "data": {
      "text/plain": [
       "array([[99, 50, 50,  4],\n",
       "       [ 7, 50, 50,  8],\n",
       "       [ 1,  6,  7,  7]])"
      ]
     },
     "execution_count": 42,
     "metadata": {},
     "output_type": "execute_result"
    }
   ],
   "source": [
    "\"\"\"인덱스를 사용해서 값 수정(여러개)\"\"\"\n",
    "x2[0:2,1:3] =50\n",
    "x2"
   ]
  },
  {
   "cell_type": "code",
   "execution_count": 21,
   "id": "998a88b4-1bcd-4dbb-9907-a0bccdb1af84",
   "metadata": {},
   "outputs": [
    {
     "data": {
      "text/plain": [
       "array([3, 0, 3, 3, 7, 9])"
      ]
     },
     "execution_count": 21,
     "metadata": {},
     "output_type": "execute_result"
    }
   ],
   "source": [
    "\"\"\"파이썬 리스트와 달리 numpy 배열은 고정 타입을 가진다.\"\"\"\n",
    "\"\"\"x1은 dtype이 int 32이기에 정수형이 아닌 부동소수점형으로 값이 수정될 때 소수점이하는 다 짤린다.\"\"\"\n",
    "x1[0]=3.14\n",
    "x1"
   ]
  },
  {
   "cell_type": "code",
   "execution_count": 23,
   "id": "f37a9d5c-4f1e-4215-b880-eb7bf1a67f37",
   "metadata": {},
   "outputs": [
    {
     "data": {
      "text/plain": [
       "(array([0, 1, 2, 3, 4, 5, 6, 7, 8, 9]), dtype('int32'), 10)"
      ]
     },
     "execution_count": 23,
     "metadata": {},
     "output_type": "execute_result"
    }
   ],
   "source": [
    "\"\"\"배열 슬라이싱: 하위 배열에 접근하기\"\"\"\n",
    "\"\"\"x[start : stop : step] 기본값 start=0 , stop=차원의 크기, step=1\"\"\"\n",
    "\n",
    "x=np.arange(10)\n",
    "x, x.dtype , x.size\n"
   ]
  },
  {
   "cell_type": "code",
   "execution_count": 24,
   "id": "b2d91db5-ec48-4d07-b265-fee0ad03d1b2",
   "metadata": {},
   "outputs": [
    {
     "data": {
      "text/plain": [
       "array([0, 1, 2, 3, 4])"
      ]
     },
     "execution_count": 24,
     "metadata": {},
     "output_type": "execute_result"
    }
   ],
   "source": [
    "x[:5]\n",
    "\"\"\"0부터 인덱스 4까지\"\"\""
   ]
  },
  {
   "cell_type": "code",
   "execution_count": 25,
   "id": "26aad2d1-a538-42c4-8631-5f4bba846924",
   "metadata": {},
   "outputs": [
    {
     "data": {
      "text/plain": [
       "array([1, 3, 5, 7, 9])"
      ]
     },
     "execution_count": 25,
     "metadata": {},
     "output_type": "execute_result"
    }
   ],
   "source": [
    "\"\"\"홀수 인덱스\"\"\"\n",
    "x[1::2]"
   ]
  },
  {
   "cell_type": "code",
   "execution_count": 26,
   "id": "6b3e7beb-84d3-4cb2-92b9-495091f4bb9b",
   "metadata": {},
   "outputs": [
    {
     "data": {
      "text/plain": [
       "array([0, 2, 4, 6, 8])"
      ]
     },
     "execution_count": 26,
     "metadata": {},
     "output_type": "execute_result"
    }
   ],
   "source": [
    "\"\"\"짝수 인덱스\"\"\"\n",
    "x[::2]"
   ]
  },
  {
   "cell_type": "code",
   "execution_count": 27,
   "id": "fcd2ce5b-e83c-4050-9e2a-0b59f4bf6659",
   "metadata": {},
   "outputs": [
    {
     "data": {
      "text/plain": [
       "array([9, 8, 7, 6, 5, 4, 3, 2, 1, 0])"
      ]
     },
     "execution_count": 27,
     "metadata": {},
     "output_type": "execute_result"
    }
   ],
   "source": [
    "\"\"\"step이 음수일 때, start와 stop이 바뀐다.\"\"\"\n",
    "\"\"\"거꾸로 나열\"\"\"\n",
    "x[::-1]"
   ]
  },
  {
   "cell_type": "code",
   "execution_count": 28,
   "id": "b997b28d-522e-4fa1-9ac3-5f83da1e70f7",
   "metadata": {},
   "outputs": [
    {
     "data": {
      "text/plain": [
       "array([[12,  5,  2],\n",
       "       [ 7,  6,  8]])"
      ]
     },
     "execution_count": 28,
     "metadata": {},
     "output_type": "execute_result"
    }
   ],
   "source": [
    "\"\"\"다차원 하위 배열\"\"\"\n",
    "x2[:2 ,:3]"
   ]
  },
  {
   "cell_type": "code",
   "execution_count": 29,
   "id": "84e76baf-0953-4662-9a1b-1186464c889b",
   "metadata": {},
   "outputs": [
    {
     "data": {
      "text/plain": [
       "array([[12,  5],\n",
       "       [ 7,  6],\n",
       "       [ 1,  6]])"
      ]
     },
     "execution_count": 29,
     "metadata": {},
     "output_type": "execute_result"
    }
   ],
   "source": [
    "x2[:3 ,:2]"
   ]
  },
  {
   "cell_type": "code",
   "execution_count": 43,
   "id": "de6d929d-f48c-4b03-bcd9-72f1d356d68c",
   "metadata": {},
   "outputs": [
    {
     "data": {
      "text/plain": [
       "array([[ 7,  7,  6,  1],\n",
       "       [ 8, 50, 50,  7],\n",
       "       [ 4, 50, 50, 99]])"
      ]
     },
     "execution_count": 43,
     "metadata": {},
     "output_type": "execute_result"
    }
   ],
   "source": [
    "\"\"\"상하좌우 값이 바뀜\"\"\"\n",
    "\n",
    "x2[::-1, ::-1]"
   ]
  },
  {
   "cell_type": "code",
   "execution_count": 32,
   "id": "9006e469-e36e-44b0-a5b0-c5f05575880e",
   "metadata": {},
   "outputs": [
    {
     "name": "stdout",
     "output_type": "stream",
     "text": [
      "[12  7  1]\n"
     ]
    }
   ],
   "source": [
    "\"\"\"x2의 첫번째 열\"\"\"\n",
    "print(x2[:,0])"
   ]
  },
  {
   "cell_type": "code",
   "execution_count": 33,
   "id": "6c3e7e39-2ab7-4392-a0ca-0d0245d4f75c",
   "metadata": {},
   "outputs": [
    {
     "data": {
      "text/plain": [
       "array([12,  7,  1])"
      ]
     },
     "execution_count": 33,
     "metadata": {},
     "output_type": "execute_result"
    }
   ],
   "source": [
    "\"\"\"x2의 첫번째 열\"\"\"\n",
    "x2[:,0]"
   ]
  },
  {
   "cell_type": "code",
   "execution_count": 34,
   "id": "210eaeef-939b-4ff5-9c7a-3865b8e0d7c2",
   "metadata": {},
   "outputs": [
    {
     "name": "stdout",
     "output_type": "stream",
     "text": [
      "[[12  5  2  4]\n",
      " [ 7  6  8  8]\n",
      " [ 1  6  7  7]]\n"
     ]
    }
   ],
   "source": [
    "\"\"\"사본이 아닌 뷰로서의 하위 배열\"\"\"\n",
    "\"\"\"파이썬 리스트에서는 슬라이스는 사본이어서 원본이 유지된다. ////numpy에서는 원본이 유지되지 않고 바뀐다.\"\"\"\n",
    "print(x2)"
   ]
  },
  {
   "cell_type": "code",
   "execution_count": 35,
   "id": "aaed448b-827c-4009-9f54-74c9704edecf",
   "metadata": {},
   "outputs": [
    {
     "name": "stdout",
     "output_type": "stream",
     "text": [
      "[[12  5]\n",
      " [ 7  6]]\n"
     ]
    }
   ],
   "source": [
    "x2_sub=x2[:2,:2]\n",
    "print(x2_sub)"
   ]
  },
  {
   "cell_type": "code",
   "execution_count": 36,
   "id": "99d98119-5ca0-4033-850b-8e80514ae373",
   "metadata": {},
   "outputs": [
    {
     "name": "stdout",
     "output_type": "stream",
     "text": [
      "[[99  5]\n",
      " [ 7  6]]\n"
     ]
    }
   ],
   "source": [
    "x2_sub[0,0]  = 99\n",
    "print(x2_sub)"
   ]
  },
  {
   "cell_type": "code",
   "execution_count": 37,
   "id": "93fde5f8-2dd6-47e6-aca2-abbc66075613",
   "metadata": {},
   "outputs": [
    {
     "name": "stdout",
     "output_type": "stream",
     "text": [
      "[[99  5  2  4]\n",
      " [ 7  6  8  8]\n",
      " [ 1  6  7  7]]\n"
     ]
    }
   ],
   "source": [
    "print(x2)"
   ]
  },
  {
   "cell_type": "code",
   "execution_count": 47,
   "id": "bac822a0-b00b-4039-8430-239766096b26",
   "metadata": {},
   "outputs": [
    {
     "data": {
      "text/plain": [
       "[5, 2, 3]"
      ]
     },
     "execution_count": 47,
     "metadata": {},
     "output_type": "execute_result"
    }
   ],
   "source": [
    "\"\"\"파이썬에서 원본이 잃어버리는 경우\"\"\"\n",
    "ls=[1,2,3]\n",
    "ls2=ls\n",
    "ls2[0]=5\n",
    "ls\n"
   ]
  },
  {
   "cell_type": "code",
   "execution_count": 49,
   "id": "9e1a0a05-5f32-4c6e-9cbc-caec4da43ed4",
   "metadata": {},
   "outputs": [
    {
     "data": {
      "text/plain": [
       "[1, 2, 3]"
      ]
     },
     "execution_count": 49,
     "metadata": {},
     "output_type": "execute_result"
    }
   ],
   "source": [
    "\"\"\"파이썬에서 원본 유지\"\"\"\n",
    "ls=[1,2,3]\n",
    "ls2=ls[:]\n",
    "ls2[0]=5\n",
    "ls"
   ]
  },
  {
   "cell_type": "code",
   "execution_count": 41,
   "id": "5f4a55f8-9f19-44bb-a065-63f0fa2509ce",
   "metadata": {},
   "outputs": [
    {
     "name": "stdout",
     "output_type": "stream",
     "text": [
      "[[99  5]\n",
      " [ 7  6]]\n"
     ]
    }
   ],
   "source": [
    "\"\"\"파이썬에서 원본유지를 위해 사본 만든 것처럼 numpy에서의 배열 사본 (copy)\"\"\"\n",
    "x2_sub_copy= x2[:2,:2].copy()\n",
    "print(x2_sub_copy)"
   ]
  },
  {
   "cell_type": "code",
   "execution_count": 44,
   "id": "db46c6b7-beca-4ce9-a8ae-adb7f71b7cec",
   "metadata": {},
   "outputs": [
    {
     "name": "stdout",
     "output_type": "stream",
     "text": [
      "[[42  5]\n",
      " [ 7  6]]\n"
     ]
    }
   ],
   "source": [
    "x2_sub_copy[0,0]=42\n",
    "print(x2_sub_copy)"
   ]
  },
  {
   "cell_type": "code",
   "execution_count": 45,
   "id": "43250b5b-a56e-4910-ace4-567454798a9a",
   "metadata": {},
   "outputs": [
    {
     "name": "stdout",
     "output_type": "stream",
     "text": [
      "[[99 50]\n",
      " [ 7 50]]\n"
     ]
    }
   ],
   "source": [
    "print(x2_sub)"
   ]
  },
  {
   "cell_type": "code",
   "execution_count": null,
   "id": "bdff61bf-86ee-40ef-9a05-35021da39b7c",
   "metadata": {},
   "outputs": [],
   "source": []
  }
 ],
 "metadata": {
  "kernelspec": {
   "display_name": "Python 3 (ipykernel)",
   "language": "python",
   "name": "python3"
  },
  "language_info": {
   "codemirror_mode": {
    "name": "ipython",
    "version": 3
   },
   "file_extension": ".py",
   "mimetype": "text/x-python",
   "name": "python",
   "nbconvert_exporter": "python",
   "pygments_lexer": "ipython3",
   "version": "3.9.13"
  }
 },
 "nbformat": 4,
 "nbformat_minor": 5
}
