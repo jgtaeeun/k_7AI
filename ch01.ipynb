{
 "cells": [
  {
   "cell_type": "markdown",
   "id": "d1bdbb22-044e-4aed-8a3e-7ad354a157a3",
   "metadata": {},
   "source": [
    "<h1>jupyter 설치 및 유용한 함수 + 마크다운 + 키보드 단축키</h1>"
   ]
  },
  {
   "cell_type": "code",
   "execution_count": 1,
   "id": "a4b3f4f4-d5e9-40a8-8e0e-30cad1fec191",
   "metadata": {},
   "outputs": [
    {
     "data": {
      "text/plain": [
       "'cell 타입을 code에서 markdown으로 변경 후, <h1></h1>태그를 쓴다.'"
      ]
     },
     "execution_count": 1,
     "metadata": {},
     "output_type": "execute_result"
    }
   ],
   "source": [
    "\"\"\"마크다운\"\"\"\n",
    "\"\"\"cell 타입을 code에서 markdown으로 변경 후, <h1></h1>태그를 쓴다.\"\"\""
   ]
  },
  {
   "cell_type": "code",
   "execution_count": null,
   "id": "5f69dbd0-6b85-4ced-bf98-b05b2d09db1d",
   "metadata": {},
   "outputs": [],
   "source": [
    "\"\"\"환경변수 path 설정\"\"\"\n",
    "\"\"\"C:\\Users\\user\\AppData\\Roaming\\Python\\Python39\\Scripts\"\"\"\n",
    "\n",
    "\"\"\"주피터 설치 후 cmd에서 실행할 때\"\"\"\n",
    "\"\"\"python -m notebook\"\"\"\n",
    "\n",
    "\"\"\"주피터 설치 후 홈 디렉토리 변경할 때\"\"\"\n",
    "\"\"\"https://takeheed.tistory.com/2\"\"\"\n",
    "\n",
    "\"\"\"키보드 단축키\"\"\"\n",
    "\"\"\"jupyter notebook-help-show shortcuts\"\"\"\n",
    "\n",
    "\"\"\"esc + a : 현재 셀 기준 위쪽에 셀 넣기\"\"\"\n",
    "\"\"\"esc + b : 현재 셀 기준 아래쪽에 셀 넣기\"\"\"\n",
    "\"\"\"esc + dd : 현재 셀 삭제\"\"\"\n",
    "\n",
    "\"\"\"*교재 10~12는 cmd에서 하는 거\"\"\""
   ]
  },
  {
   "cell_type": "code",
   "execution_count": 1,
   "id": "ed131e3d-466d-460e-9d78-94c792b6a22a",
   "metadata": {},
   "outputs": [],
   "source": [
    "def square(a):\n",
    "    \"\"\"a의 제곱을 반환\"\"\"\n",
    "    return a**2"
   ]
  },
  {
   "cell_type": "code",
   "execution_count": 2,
   "id": "77031032-acf9-4c31-afc6-05e60a628db5",
   "metadata": {},
   "outputs": [
    {
     "data": {
      "text/plain": [
       "4"
      ]
     },
     "execution_count": 2,
     "metadata": {},
     "output_type": "execute_result"
    }
   ],
   "source": [
    "square(2)"
   ]
  },
  {
   "cell_type": "code",
   "execution_count": 20,
   "id": "d4ce8ad7-1c3b-4829-b082-8e2b72a9c2f7",
   "metadata": {},
   "outputs": [
    {
     "data": {
      "text/plain": [
       "\u001b[1;31mSignature:\u001b[0m \u001b[0msquare\u001b[0m\u001b[1;33m(\u001b[0m\u001b[0ma\u001b[0m\u001b[1;33m)\u001b[0m\u001b[1;33m\u001b[0m\u001b[1;33m\u001b[0m\u001b[0m\n",
       "\u001b[1;31mDocstring:\u001b[0m a의 제곱을 반환\n",
       "\u001b[1;31mFile:\u001b[0m      c:\\users\\user\\appdata\\local\\temp\\ipykernel_12952\\2796758577.py\n",
       "\u001b[1;31mType:\u001b[0m      function"
      ]
     },
     "metadata": {},
     "output_type": "display_data"
    }
   ],
   "source": [
    "   \"\"\"?로 문서확인하기\"\"\"\n",
    "square?"
   ]
  },
  {
   "cell_type": "code",
   "execution_count": 4,
   "id": "85bfc5c1-a225-4bed-bdd4-c4cd761692c1",
   "metadata": {},
   "outputs": [
    {
     "data": {
      "text/plain": [
       "\u001b[1;31mSignature:\u001b[0m \u001b[0msquare\u001b[0m\u001b[1;33m(\u001b[0m\u001b[0ma\u001b[0m\u001b[1;33m)\u001b[0m\u001b[1;33m\u001b[0m\u001b[1;33m\u001b[0m\u001b[0m\n",
       "\u001b[1;31mSource:\u001b[0m   \n",
       "\u001b[1;32mdef\u001b[0m \u001b[0msquare\u001b[0m\u001b[1;33m(\u001b[0m\u001b[0ma\u001b[0m\u001b[1;33m)\u001b[0m\u001b[1;33m:\u001b[0m\u001b[1;33m\n",
       "\u001b[0m    \u001b[1;34m\"\"\"a의 제곱을 반환\"\"\"\u001b[0m\u001b[1;33m\n",
       "\u001b[0m    \u001b[1;32mreturn\u001b[0m \u001b[0ma\u001b[0m\u001b[1;33m**\u001b[0m\u001b[1;36m2\u001b[0m\u001b[1;33m\u001b[0m\u001b[1;33m\u001b[0m\u001b[0m\n",
       "\u001b[1;31mFile:\u001b[0m      c:\\users\\user\\appdata\\local\\temp\\ipykernel_12952\\2796758577.py\n",
       "\u001b[1;31mType:\u001b[0m      function"
      ]
     },
     "metadata": {},
     "output_type": "display_data"
    }
   ],
   "source": [
    "square??"
   ]
  },
  {
   "cell_type": "code",
   "execution_count": 5,
   "id": "21055b9c-d82d-40da-88ae-d9c7401bb0bf",
   "metadata": {},
   "outputs": [
    {
     "data": {
      "text/plain": [
       "\u001b[1;31mSignature:\u001b[0m \u001b[0mlen\u001b[0m\u001b[1;33m(\u001b[0m\u001b[0mobj\u001b[0m\u001b[1;33m,\u001b[0m \u001b[1;33m/\u001b[0m\u001b[1;33m)\u001b[0m\u001b[1;33m\u001b[0m\u001b[1;33m\u001b[0m\u001b[0m\n",
       "\u001b[1;31mDocstring:\u001b[0m Return the number of items in a container.\n",
       "\u001b[1;31mType:\u001b[0m      builtin_function_or_method"
      ]
     },
     "metadata": {},
     "output_type": "display_data"
    }
   ],
   "source": [
    "len?"
   ]
  },
  {
   "cell_type": "code",
   "execution_count": 6,
   "id": "e713bbac-c9c1-4eb2-99a4-1eb4ee67e33b",
   "metadata": {
    "scrolled": true
   },
   "outputs": [
    {
     "data": {
      "text/plain": [
       "\u001b[1;31mSignature:\u001b[0m \u001b[0mlen\u001b[0m\u001b[1;33m(\u001b[0m\u001b[0mobj\u001b[0m\u001b[1;33m,\u001b[0m \u001b[1;33m/\u001b[0m\u001b[1;33m)\u001b[0m\u001b[1;33m\u001b[0m\u001b[1;33m\u001b[0m\u001b[0m\n",
       "\u001b[1;31mDocstring:\u001b[0m Return the number of items in a container.\n",
       "\u001b[1;31mType:\u001b[0m      builtin_function_or_method"
      ]
     },
     "metadata": {},
     "output_type": "display_data"
    }
   ],
   "source": [
    "len??"
   ]
  },
  {
   "cell_type": "code",
   "execution_count": 8,
   "id": "41ee5434-65dd-4daf-b7e2-139394815415",
   "metadata": {},
   "outputs": [],
   "source": [
    "L=[1,2,3]\n",
    "\"\"\"파이썬에서는 리스트가 배열의 형태\"\"\""
   ]
  },
  {
   "cell_type": "code",
   "execution_count": 9,
   "id": "3f2dd7c4-c3aa-4daa-b5bc-d5d913c33a92",
   "metadata": {},
   "outputs": [
    {
     "data": {
      "text/plain": [
       "\u001b[1;31mSignature:\u001b[0m \u001b[0mL\u001b[0m\u001b[1;33m.\u001b[0m\u001b[0minsert\u001b[0m\u001b[1;33m(\u001b[0m\u001b[0mindex\u001b[0m\u001b[1;33m,\u001b[0m \u001b[0mobject\u001b[0m\u001b[1;33m,\u001b[0m \u001b[1;33m/\u001b[0m\u001b[1;33m)\u001b[0m\u001b[1;33m\u001b[0m\u001b[1;33m\u001b[0m\u001b[0m\n",
       "\u001b[1;31mDocstring:\u001b[0m Insert object before index.\n",
       "\u001b[1;31mType:\u001b[0m      builtin_function_or_method"
      ]
     },
     "metadata": {},
     "output_type": "display_data"
    }
   ],
   "source": [
    "L.insert?"
   ]
  },
  {
   "cell_type": "code",
   "execution_count": null,
   "id": "a0d76f88-87a1-48f6-9ad3-2937bfaaa6cb",
   "metadata": {},
   "outputs": [],
   "source": [
    "a=5\n",
    "a"
   ]
  },
  {
   "cell_type": "code",
   "execution_count": 10,
   "id": "b1c97784-5d6c-42c2-93fc-5021005ed990",
   "metadata": {},
   "outputs": [
    {
     "data": {
      "text/plain": [
       "\u001b[1;31mType:\u001b[0m        list\n",
       "\u001b[1;31mString form:\u001b[0m [1, 2, 3]\n",
       "\u001b[1;31mLength:\u001b[0m      3\n",
       "\u001b[1;31mDocstring:\u001b[0m  \n",
       "Built-in mutable sequence.\n",
       "\n",
       "If no argument is given, the constructor creates a new empty list.\n",
       "The argument must be an iterable if specified."
      ]
     },
     "metadata": {},
     "output_type": "display_data"
    }
   ],
   "source": [
    "L?"
   ]
  },
  {
   "cell_type": "code",
   "execution_count": 13,
   "id": "068de024-8c41-4346-807a-d60c49f41f39",
   "metadata": {},
   "outputs": [
    {
     "data": {
      "text/plain": [
       "<function list.append(object, /)>"
      ]
     },
     "execution_count": 13,
     "metadata": {},
     "output_type": "execute_result"
    }
   ],
   "source": [
    "\"\"\"tab 자동완성으로 모듈 탐색하기\"\"\"\n",
    "\"\"\"L하고 점 누르고 tab 키 누르면 모듈이 나타난다.\"\"\"\n",
    "L.append\n"
   ]
  },
  {
   "cell_type": "code",
   "execution_count": 14,
   "id": "85035f4c-ce1f-43b0-a129-d12e5a83c201",
   "metadata": {},
   "outputs": [],
   "source": [
    "def pow(x):\n",
    "    return x*x "
   ]
  },
  {
   "cell_type": "code",
   "execution_count": 15,
   "id": "9c950534-f30d-4b67-9aa9-8c4a881271c6",
   "metadata": {},
   "outputs": [
    {
     "name": "stdout",
     "output_type": "stream",
     "text": [
      "1\n",
      "2\n",
      "3\n"
     ]
    }
   ],
   "source": [
    "for n in range(1,4):\n",
    "    print(n)"
   ]
  },
  {
   "cell_type": "code",
   "execution_count": 16,
   "id": "52a9b2e4-5db4-4b16-a6c4-345f509815d0",
   "metadata": {},
   "outputs": [
    {
     "name": "stdout",
     "output_type": "stream",
     "text": [
      "1 1\n",
      "2 4\n",
      "3 9\n"
     ]
    }
   ],
   "source": [
    "for n in range(1,4):\n",
    "    print(n , pow(n))"
   ]
  },
  {
   "cell_type": "code",
   "execution_count": 17,
   "id": "4f6feee1-2f9e-45ec-b8f8-cbe9120dacfc",
   "metadata": {
    "scrolled": true
   },
   "outputs": [
    {
     "name": "stdout",
     "output_type": "stream",
     "text": [
      "172 µs ± 764 ns per loop (mean ± std. dev. of 7 runs, 10,000 loops each)\n"
     ]
    }
   ],
   "source": [
    "\"\"\"유용한 매직 함수 %timeit : 코드 실행 시간 측정 함수\"\"\"\n",
    "%timeit L = [n**2 for n in range(1000)]"
   ]
  },
  {
   "cell_type": "code",
   "execution_count": 19,
   "id": "8513e8ba-e19d-451d-befb-c7c49bc7e6c9",
   "metadata": {
    "scrolled": true
   },
   "outputs": [
    {
     "name": "stdout",
     "output_type": "stream",
     "text": [
      "66.2 µs ± 333 ns per loop (mean ± std. dev. of 7 runs, 10,000 loops each)\n"
     ]
    }
   ],
   "source": [
    "%timeit L = [pow(n) for n in range(1000)]"
   ]
  },
  {
   "cell_type": "code",
   "execution_count": 21,
   "id": "ee1f6129-e32e-46b7-8a0b-0c0c74749712",
   "metadata": {},
   "outputs": [
    {
     "data": {
      "text/plain": [
       "[9]"
      ]
     },
     "execution_count": 21,
     "metadata": {},
     "output_type": "execute_result"
    }
   ],
   "source": [
    "\"\"\"in/out 객체는 쌍\"\"\"\n",
    "[9]  "
   ]
  },
  {
   "cell_type": "code",
   "execution_count": 28,
   "id": "6aa2c58a-8c08-4a10-9eee-029466501cd0",
   "metadata": {
    "scrolled": true
   },
   "outputs": [
    {
     "name": "stdout",
     "output_type": "stream",
     "text": [
      "   1:\n",
      "def square(a):\n",
      "    \"\"\"a의 제곱을 반환\"\"\"\n",
      "    return a**2\n",
      "   2: square(2)\n",
      "   3: square?\n",
      "   4: square??\n",
      "['', 'def square(a):\\n    \"\"\"a의 제곱을 반환\"\"\"\\n    return a**2', 'square(2)', \"get_ipython().run_line_magic('pinfo', 'square')\", \"get_ipython().run_line_magic('pinfo2', 'square')\", \"get_ipython().run_line_magic('pinfo', 'len')\", \"get_ipython().run_line_magic('pinfo2', 'len')\", 'L.<TAB>', 'L=[1,2,3]', \"get_ipython().run_line_magic('pinfo', 'L.insert')\", \"get_ipython().run_line_magic('pinfo', 'L')\", 'L.<TAB>', 'L.<TAB>\\n    L.append L.count', 'L.append', 'def pow(x):\\n    return x*x ', 'for n in range(1,4):\\n    print(n)', 'for n in range(1,4):\\n    print(n , pow(n))', \"get_ipython().run_line_magic('timeit', 'L = [n**2 for n in range(1000)]')\", \"get_ipython().run_line_magic('timeit', 'L = [pow(x) for n in range(1000)]')\", \"get_ipython().run_line_magic('timeit', 'L = [pow(n) for n in range(1000)]')\", '\"\"\"?로 문서확인하기\"\"\"\\nget_ipython().run_line_magic(\\'pinfo\\', \\'square\\')', '[9]', 'out[0]', 'Out[0]', 'import math\\nmath.sin(2)\\nmath.cos(2)\\nprint(In)', \"get_ipython().run_line_magic('history', '-n 1-4')\\nimport math\\nmath.sin(2)\\nmath.cos(2)\\nprint(In)\", 'import math\\nmath.sin(2)\\nmath.cos(2)\\nprint(In)', 'import math\\nmath.sin(2)\\nmath.cos(2)\\nprint(In)', \"get_ipython().run_line_magic('history', '-n 1-4')\\nimport math\\nmath.sin(2)\\nmath.cos(2)\\nprint(In)\"]\n"
     ]
    }
   ],
   "source": [
    "%history -n 1-4\n",
    "import math\n",
    "math.sin(2)\n",
    "math.cos(2)\n",
    "print(In)\n"
   ]
  },
  {
   "cell_type": "code",
   "execution_count": 29,
   "id": "60784a96-189a-4421-acf3-3e58a30c0ec3",
   "metadata": {},
   "outputs": [
    {
     "name": "stdout",
     "output_type": "stream",
     "text": [
      " C 드라이브의 볼륨에는 이름이 없습니다.\n",
      " 볼륨 일련 번호: A433-2278\n",
      "\n",
      " C:\\workspace_datascience 디렉터리\n",
      "\n",
      "2024-06-24  오전 10:48    <DIR>          .\n",
      "2024-06-24  오전 10:48    <DIR>          ..\n",
      "2024-06-24  오전 10:12    <DIR>          .ipynb_checkpoints\n",
      "2024-06-24  오전 10:48            11,869 Untitled.ipynb\n",
      "               1개 파일              11,869 바이트\n",
      "               3개 디렉터리  426,789,928,960 바이트 남음\n"
     ]
    }
   ],
   "source": [
    "\"\"\"디렉토리 출력할 때 !문자를 접두어로 붙여 바로 사용\"\"\"\n",
    "!dir\n",
    "\n",
    "\"\"\"cd =디렉토리변경\"\"\"\n",
    "\"\"\"mkdir =새 디렉토리 생성\"\"\"\n",
    "\"\"\"mv./ =파일 이동\"\"\""
   ]
  },
  {
   "cell_type": "code",
   "execution_count": 47,
   "id": "6122354a-364d-477a-811f-7a8697c5af61",
   "metadata": {},
   "outputs": [
    {
     "name": "stderr",
     "output_type": "stream",
     "text": [
      "'ls'은(는) 내부 또는 외부 명령, 실행할 수 있는 프로그램, 또는\n",
      "배치 파일이 아닙니다.\n"
     ]
    }
   ],
   "source": [
    "\"\"\"셀\"\"\"\n"
   ]
  },
  {
   "cell_type": "code",
   "execution_count": 37,
   "id": "c7f155fb-7587-4ad9-9b52-6645ec296188",
   "metadata": {},
   "outputs": [
    {
     "data": {
      "text/plain": [
       "' 오른쪽 상단 버그 아이콘 on하면 주황색이되고 각각의 행에 대하여 브레이크포인트 생겨 각각의 행에 대하여 디버깅한다. '"
      ]
     },
     "execution_count": 37,
     "metadata": {},
     "output_type": "execute_result"
    }
   ],
   "source": [
    "\"\"\"에러와 디버깅\"\"\"\n",
    "\"\"\"%xmode            Plain, Context, Verbose\"\"\"\n",
    "\"\"\" 오른쪽 상단 버그 아이콘 on하면 주황색이되고 각각의 행에 대하여 브레이크포인트 생겨 각각의 행에 대하여 디버깅한다. \"\"\"\n",
    "\n"
   ]
  },
  {
   "cell_type": "code",
   "execution_count": 39,
   "id": "c86dbd46-62f9-4ee2-a564-e3d802a9fcac",
   "metadata": {},
   "outputs": [
    {
     "name": "stdout",
     "output_type": "stream",
     "text": [
      "812 ns ± 3.24 ns per loop (mean ± std. dev. of 7 runs, 1,000,000 loops each)\n"
     ]
    }
   ],
   "source": [
    "%timeit sum(range(100))\n",
    "\"\"\"timeit 통계값 출력,적절하게 가감해서 sum()을 한다. \"\"\""
   ]
  },
  {
   "cell_type": "code",
   "execution_count": 46,
   "id": "2ba2f3bd-8097-4609-ab3f-33b036ed1d80",
   "metadata": {},
   "outputs": [
    {
     "name": "stdout",
     "output_type": "stream",
     "text": [
      "CPU times: total: 0 ns\n",
      "Wall time: 0 ns\n"
     ]
    },
    {
     "data": {
      "text/plain": [
       "4950"
      ]
     },
     "execution_count": 46,
     "metadata": {},
     "output_type": "execute_result"
    }
   ],
   "source": [
    "%time sum(range(100))"
   ]
  },
  {
   "cell_type": "code",
   "execution_count": 40,
   "id": "d1d46b57-a3aa-4001-a8a5-dc3b9d57213b",
   "metadata": {},
   "outputs": [
    {
     "data": {
      "text/plain": [
       "4950"
      ]
     },
     "execution_count": 40,
     "metadata": {},
     "output_type": "execute_result"
    }
   ],
   "source": [
    "\"\"\"range(100) 0~99\"\"\"\n",
    "sum(range(100))  "
   ]
  },
  {
   "cell_type": "code",
   "execution_count": null,
   "id": "12667332-5c03-4c11-9502-09ca347ca38d",
   "metadata": {},
   "outputs": [],
   "source": []
  }
 ],
 "metadata": {
  "kernelspec": {
   "display_name": "Python 3 (ipykernel)",
   "language": "python",
   "name": "python3"
  },
  "language_info": {
   "codemirror_mode": {
    "name": "ipython",
    "version": 3
   },
   "file_extension": ".py",
   "mimetype": "text/x-python",
   "name": "python",
   "nbconvert_exporter": "python",
   "pygments_lexer": "ipython3",
   "version": "3.9.13"
  }
 },
 "nbformat": 4,
 "nbformat_minor": 5
}
